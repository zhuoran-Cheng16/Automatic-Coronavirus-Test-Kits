{
 "cells": [
  {
   "cell_type": "markdown",
   "metadata": {},
   "source": [
    "#  Automatic Coronavirus Test Kits"
   ]
  },
  {
   "cell_type": "markdown",
   "metadata": {},
   "source": [
    "## 1. Basic Set and Read train.csv file."
   ]
  },
  {
   "cell_type": "code",
   "execution_count": 1,
   "metadata": {},
   "outputs": [],
   "source": [
    "from __future__ import division, print_function, unicode_literals\n",
    "\n",
    "\n",
    "import numpy as np\n",
    "import os\n",
    "\n",
    "import tarfile\n",
    "from six.moves import urllib\n",
    "\n",
    "from sklearn.utils.testing import ignore_warnings\n",
    "from sklearn.exceptions import ConvergenceWarning\n",
    "np.random.seed(42)\n",
    "\n",
    "def reset_graph(seed=42):\n",
    "    tf.reset_default_graph()\n",
    "    tf.set_random_seed(seed)\n",
    "    np.random.seed(seed)\n",
    "\n",
    "# To plot pretty figures\n",
    "%matplotlib inline\n",
    "import matplotlib\n",
    "\n",
    "import matplotlib as mpl\n",
    "import matplotlib.pyplot as plt\n",
    "plt.rcParams['axes.labelsize'] = 14\n",
    "plt.rcParams['xtick.labelsize'] = 12\n",
    "plt.rcParams['ytick.labelsize'] = 12\n",
    "\n",
    "\n",
    "from warnings import simplefilter\n",
    "simplefilter(action='ignore', category=FutureWarning)\n",
    "simplefilter(action='ignore', category=ConvergenceWarning)\n",
    "import warnings\n",
    "warnings.filterwarnings(action=\"ignore\", message=\"^internal gelsd\")"
   ]
  },
  {
   "cell_type": "code",
   "execution_count": 2,
   "metadata": {},
   "outputs": [],
   "source": [
    "import pandas as pd #cvs file"
   ]
  },
  {
   "cell_type": "code",
   "execution_count": 3,
   "metadata": {},
   "outputs": [],
   "source": [
    "d_train=pd.read_csv(\"train.csv\")\n",
    "d_test=pd.read_csv(\"test.csv\")"
   ]
  },
  {
   "cell_type": "markdown",
   "metadata": {},
   "source": [
    "## 2. Obtain the high level information of the dataset."
   ]
  },
  {
   "cell_type": "markdown",
   "metadata": {},
   "source": [
    "In this part. I checked the dataset first, because the train file and test file are seperate, so I don't need to split the dataset.Just need to drop the y labels for x and let y equal to y column as labels."
   ]
  },
  {
   "cell_type": "code",
   "execution_count": 4,
   "metadata": {},
   "outputs": [
    {
     "name": "stdout",
     "output_type": "stream",
     "text": [
      "<class 'pandas.core.frame.DataFrame'>\n",
      "RangeIndex: 30000 entries, 0 to 29999\n",
      "Data columns (total 26 columns):\n",
      "x1     30000 non-null float64\n",
      "x2     30000 non-null float64\n",
      "x3     30000 non-null float64\n",
      "x4     30000 non-null float64\n",
      "x5     30000 non-null float64\n",
      "x6     30000 non-null float64\n",
      "x7     30000 non-null float64\n",
      "x8     30000 non-null float64\n",
      "x9     30000 non-null float64\n",
      "x10    30000 non-null float64\n",
      "x11    30000 non-null float64\n",
      "x12    30000 non-null float64\n",
      "x13    30000 non-null float64\n",
      "x14    30000 non-null float64\n",
      "x15    30000 non-null float64\n",
      "x16    30000 non-null float64\n",
      "x17    30000 non-null float64\n",
      "x18    30000 non-null float64\n",
      "x19    30000 non-null float64\n",
      "x20    30000 non-null float64\n",
      "x21    30000 non-null float64\n",
      "x22    30000 non-null float64\n",
      "x23    30000 non-null float64\n",
      "x24    30000 non-null float64\n",
      "x25    30000 non-null float64\n",
      "y      30000 non-null float64\n",
      "dtypes: float64(26)\n",
      "memory usage: 6.0 MB\n"
     ]
    }
   ],
   "source": [
    "d_train.info()"
   ]
  },
  {
   "cell_type": "markdown",
   "metadata": {},
   "source": [
    "All attributs are numberical. x1 is the categorical which have the classes 1,2,3"
   ]
  },
  {
   "cell_type": "code",
   "execution_count": 5,
   "metadata": {},
   "outputs": [
    {
     "data": {
      "text/plain": [
       "x1         3\n",
       "x2     30000\n",
       "x3     30000\n",
       "x4     30000\n",
       "x5     30000\n",
       "x6     30000\n",
       "x7     30000\n",
       "x8     30000\n",
       "x9     30000\n",
       "x10    30000\n",
       "x11    30000\n",
       "x12    30000\n",
       "x13    30000\n",
       "x14    30000\n",
       "x15    30000\n",
       "x16    30000\n",
       "x17    30000\n",
       "x18    30000\n",
       "x19    30000\n",
       "x20    30000\n",
       "x21    30000\n",
       "x22    30000\n",
       "x23    30000\n",
       "x24    30000\n",
       "x25    30000\n",
       "y          2\n",
       "dtype: int64"
      ]
     },
     "execution_count": 5,
     "metadata": {},
     "output_type": "execute_result"
    }
   ],
   "source": [
    "d_train.nunique()"
   ]
  },
  {
   "cell_type": "code",
   "execution_count": 6,
   "metadata": {},
   "outputs": [
    {
     "data": {
      "text/html": [
       "<div>\n",
       "<style scoped>\n",
       "    .dataframe tbody tr th:only-of-type {\n",
       "        vertical-align: middle;\n",
       "    }\n",
       "\n",
       "    .dataframe tbody tr th {\n",
       "        vertical-align: top;\n",
       "    }\n",
       "\n",
       "    .dataframe thead th {\n",
       "        text-align: right;\n",
       "    }\n",
       "</style>\n",
       "<table border=\"1\" class=\"dataframe\">\n",
       "  <thead>\n",
       "    <tr style=\"text-align: right;\">\n",
       "      <th></th>\n",
       "      <th>x1</th>\n",
       "      <th>x2</th>\n",
       "      <th>x3</th>\n",
       "      <th>x4</th>\n",
       "      <th>x5</th>\n",
       "      <th>x6</th>\n",
       "      <th>x7</th>\n",
       "      <th>x8</th>\n",
       "      <th>x9</th>\n",
       "      <th>x10</th>\n",
       "      <th>...</th>\n",
       "      <th>x17</th>\n",
       "      <th>x18</th>\n",
       "      <th>x19</th>\n",
       "      <th>x20</th>\n",
       "      <th>x21</th>\n",
       "      <th>x22</th>\n",
       "      <th>x23</th>\n",
       "      <th>x24</th>\n",
       "      <th>x25</th>\n",
       "      <th>y</th>\n",
       "    </tr>\n",
       "  </thead>\n",
       "  <tbody>\n",
       "    <tr>\n",
       "      <td>count</td>\n",
       "      <td>30000.000000</td>\n",
       "      <td>30000.000000</td>\n",
       "      <td>30000.000000</td>\n",
       "      <td>30000.000000</td>\n",
       "      <td>30000.000000</td>\n",
       "      <td>30000.000000</td>\n",
       "      <td>30000.000000</td>\n",
       "      <td>30000.000000</td>\n",
       "      <td>30000.000000</td>\n",
       "      <td>30000.000000</td>\n",
       "      <td>...</td>\n",
       "      <td>30000.000000</td>\n",
       "      <td>30000.000000</td>\n",
       "      <td>30000.000000</td>\n",
       "      <td>30000.000000</td>\n",
       "      <td>30000.000000</td>\n",
       "      <td>30000.000000</td>\n",
       "      <td>30000.000000</td>\n",
       "      <td>30000.000000</td>\n",
       "      <td>30000.000000</td>\n",
       "      <td>30000.000000</td>\n",
       "    </tr>\n",
       "    <tr>\n",
       "      <td>mean</td>\n",
       "      <td>1.852600</td>\n",
       "      <td>0.049272</td>\n",
       "      <td>0.155542</td>\n",
       "      <td>0.264086</td>\n",
       "      <td>0.327877</td>\n",
       "      <td>0.467856</td>\n",
       "      <td>0.540467</td>\n",
       "      <td>0.645905</td>\n",
       "      <td>0.772064</td>\n",
       "      <td>0.855704</td>\n",
       "      <td>...</td>\n",
       "      <td>1.607029</td>\n",
       "      <td>1.643243</td>\n",
       "      <td>1.738432</td>\n",
       "      <td>1.912739</td>\n",
       "      <td>2.122779</td>\n",
       "      <td>-0.008287</td>\n",
       "      <td>-0.003695</td>\n",
       "      <td>-0.014306</td>\n",
       "      <td>-0.007142</td>\n",
       "      <td>0.500700</td>\n",
       "    </tr>\n",
       "    <tr>\n",
       "      <td>std</td>\n",
       "      <td>0.852153</td>\n",
       "      <td>0.790037</td>\n",
       "      <td>1.586722</td>\n",
       "      <td>2.370197</td>\n",
       "      <td>3.182403</td>\n",
       "      <td>3.924575</td>\n",
       "      <td>4.748936</td>\n",
       "      <td>5.538706</td>\n",
       "      <td>6.337332</td>\n",
       "      <td>7.163032</td>\n",
       "      <td>...</td>\n",
       "      <td>12.645386</td>\n",
       "      <td>13.398864</td>\n",
       "      <td>14.179822</td>\n",
       "      <td>15.058734</td>\n",
       "      <td>15.889472</td>\n",
       "      <td>0.996894</td>\n",
       "      <td>0.997866</td>\n",
       "      <td>0.998303</td>\n",
       "      <td>1.002864</td>\n",
       "      <td>0.500008</td>\n",
       "    </tr>\n",
       "    <tr>\n",
       "      <td>min</td>\n",
       "      <td>1.000000</td>\n",
       "      <td>-4.127232</td>\n",
       "      <td>-7.546048</td>\n",
       "      <td>-11.394922</td>\n",
       "      <td>-15.703917</td>\n",
       "      <td>-17.282928</td>\n",
       "      <td>-21.532381</td>\n",
       "      <td>-29.281607</td>\n",
       "      <td>-30.208977</td>\n",
       "      <td>-34.958885</td>\n",
       "      <td>...</td>\n",
       "      <td>-65.028714</td>\n",
       "      <td>-69.516983</td>\n",
       "      <td>-69.663771</td>\n",
       "      <td>-73.657652</td>\n",
       "      <td>-72.907504</td>\n",
       "      <td>-3.928834</td>\n",
       "      <td>-3.994068</td>\n",
       "      <td>-4.192774</td>\n",
       "      <td>-3.803546</td>\n",
       "      <td>0.000000</td>\n",
       "    </tr>\n",
       "    <tr>\n",
       "      <td>25%</td>\n",
       "      <td>1.000000</td>\n",
       "      <td>-0.422199</td>\n",
       "      <td>-0.775418</td>\n",
       "      <td>-1.125385</td>\n",
       "      <td>-1.530502</td>\n",
       "      <td>-1.814194</td>\n",
       "      <td>-2.246759</td>\n",
       "      <td>-2.614270</td>\n",
       "      <td>-2.988377</td>\n",
       "      <td>-3.323687</td>\n",
       "      <td>...</td>\n",
       "      <td>-5.778436</td>\n",
       "      <td>-6.161997</td>\n",
       "      <td>-6.549858</td>\n",
       "      <td>-6.848749</td>\n",
       "      <td>-7.156391</td>\n",
       "      <td>-0.681687</td>\n",
       "      <td>-0.680071</td>\n",
       "      <td>-0.684913</td>\n",
       "      <td>-0.686482</td>\n",
       "      <td>0.000000</td>\n",
       "    </tr>\n",
       "    <tr>\n",
       "      <td>50%</td>\n",
       "      <td>2.000000</td>\n",
       "      <td>0.032569</td>\n",
       "      <td>0.141492</td>\n",
       "      <td>0.254399</td>\n",
       "      <td>0.329104</td>\n",
       "      <td>0.470329</td>\n",
       "      <td>0.495226</td>\n",
       "      <td>0.630812</td>\n",
       "      <td>0.796000</td>\n",
       "      <td>0.836376</td>\n",
       "      <td>...</td>\n",
       "      <td>1.542984</td>\n",
       "      <td>1.705728</td>\n",
       "      <td>1.776420</td>\n",
       "      <td>1.898707</td>\n",
       "      <td>2.144885</td>\n",
       "      <td>-0.009180</td>\n",
       "      <td>-0.003500</td>\n",
       "      <td>-0.013049</td>\n",
       "      <td>-0.004206</td>\n",
       "      <td>1.000000</td>\n",
       "    </tr>\n",
       "    <tr>\n",
       "      <td>75%</td>\n",
       "      <td>3.000000</td>\n",
       "      <td>0.503805</td>\n",
       "      <td>1.076679</td>\n",
       "      <td>1.638515</td>\n",
       "      <td>2.165261</td>\n",
       "      <td>2.768946</td>\n",
       "      <td>3.316882</td>\n",
       "      <td>3.912253</td>\n",
       "      <td>4.491845</td>\n",
       "      <td>5.015648</td>\n",
       "      <td>...</td>\n",
       "      <td>8.983422</td>\n",
       "      <td>9.508459</td>\n",
       "      <td>10.020857</td>\n",
       "      <td>10.665602</td>\n",
       "      <td>11.308316</td>\n",
       "      <td>0.666875</td>\n",
       "      <td>0.665890</td>\n",
       "      <td>0.653100</td>\n",
       "      <td>0.667001</td>\n",
       "      <td>1.000000</td>\n",
       "    </tr>\n",
       "    <tr>\n",
       "      <td>max</td>\n",
       "      <td>3.000000</td>\n",
       "      <td>3.768093</td>\n",
       "      <td>7.606813</td>\n",
       "      <td>12.314023</td>\n",
       "      <td>14.647326</td>\n",
       "      <td>23.133919</td>\n",
       "      <td>24.032719</td>\n",
       "      <td>27.760556</td>\n",
       "      <td>32.032490</td>\n",
       "      <td>36.809509</td>\n",
       "      <td>...</td>\n",
       "      <td>66.652373</td>\n",
       "      <td>59.753684</td>\n",
       "      <td>79.408555</td>\n",
       "      <td>68.661508</td>\n",
       "      <td>77.972068</td>\n",
       "      <td>3.581391</td>\n",
       "      <td>4.616384</td>\n",
       "      <td>3.815528</td>\n",
       "      <td>4.014202</td>\n",
       "      <td>1.000000</td>\n",
       "    </tr>\n",
       "  </tbody>\n",
       "</table>\n",
       "<p>8 rows × 26 columns</p>\n",
       "</div>"
      ],
      "text/plain": [
       "                 x1            x2            x3            x4            x5  \\\n",
       "count  30000.000000  30000.000000  30000.000000  30000.000000  30000.000000   \n",
       "mean       1.852600      0.049272      0.155542      0.264086      0.327877   \n",
       "std        0.852153      0.790037      1.586722      2.370197      3.182403   \n",
       "min        1.000000     -4.127232     -7.546048    -11.394922    -15.703917   \n",
       "25%        1.000000     -0.422199     -0.775418     -1.125385     -1.530502   \n",
       "50%        2.000000      0.032569      0.141492      0.254399      0.329104   \n",
       "75%        3.000000      0.503805      1.076679      1.638515      2.165261   \n",
       "max        3.000000      3.768093      7.606813     12.314023     14.647326   \n",
       "\n",
       "                 x6            x7            x8            x9           x10  \\\n",
       "count  30000.000000  30000.000000  30000.000000  30000.000000  30000.000000   \n",
       "mean       0.467856      0.540467      0.645905      0.772064      0.855704   \n",
       "std        3.924575      4.748936      5.538706      6.337332      7.163032   \n",
       "min      -17.282928    -21.532381    -29.281607    -30.208977    -34.958885   \n",
       "25%       -1.814194     -2.246759     -2.614270     -2.988377     -3.323687   \n",
       "50%        0.470329      0.495226      0.630812      0.796000      0.836376   \n",
       "75%        2.768946      3.316882      3.912253      4.491845      5.015648   \n",
       "max       23.133919     24.032719     27.760556     32.032490     36.809509   \n",
       "\n",
       "       ...           x17           x18           x19           x20  \\\n",
       "count  ...  30000.000000  30000.000000  30000.000000  30000.000000   \n",
       "mean   ...      1.607029      1.643243      1.738432      1.912739   \n",
       "std    ...     12.645386     13.398864     14.179822     15.058734   \n",
       "min    ...    -65.028714    -69.516983    -69.663771    -73.657652   \n",
       "25%    ...     -5.778436     -6.161997     -6.549858     -6.848749   \n",
       "50%    ...      1.542984      1.705728      1.776420      1.898707   \n",
       "75%    ...      8.983422      9.508459     10.020857     10.665602   \n",
       "max    ...     66.652373     59.753684     79.408555     68.661508   \n",
       "\n",
       "                x21           x22           x23           x24           x25  \\\n",
       "count  30000.000000  30000.000000  30000.000000  30000.000000  30000.000000   \n",
       "mean       2.122779     -0.008287     -0.003695     -0.014306     -0.007142   \n",
       "std       15.889472      0.996894      0.997866      0.998303      1.002864   \n",
       "min      -72.907504     -3.928834     -3.994068     -4.192774     -3.803546   \n",
       "25%       -7.156391     -0.681687     -0.680071     -0.684913     -0.686482   \n",
       "50%        2.144885     -0.009180     -0.003500     -0.013049     -0.004206   \n",
       "75%       11.308316      0.666875      0.665890      0.653100      0.667001   \n",
       "max       77.972068      3.581391      4.616384      3.815528      4.014202   \n",
       "\n",
       "                  y  \n",
       "count  30000.000000  \n",
       "mean       0.500700  \n",
       "std        0.500008  \n",
       "min        0.000000  \n",
       "25%        0.000000  \n",
       "50%        1.000000  \n",
       "75%        1.000000  \n",
       "max        1.000000  \n",
       "\n",
       "[8 rows x 26 columns]"
      ]
     },
     "execution_count": 6,
     "metadata": {},
     "output_type": "execute_result"
    }
   ],
   "source": [
    "d_train.describe()"
   ]
  },
  {
   "cell_type": "code",
   "execution_count": 7,
   "metadata": {},
   "outputs": [
    {
     "data": {
      "text/plain": [
       "(30000, 26)"
      ]
     },
     "execution_count": 7,
     "metadata": {},
     "output_type": "execute_result"
    }
   ],
   "source": [
    "d_train.shape"
   ]
  },
  {
   "cell_type": "code",
   "execution_count": 8,
   "metadata": {},
   "outputs": [
    {
     "data": {
      "text/plain": [
       "(10000, 26)"
      ]
     },
     "execution_count": 8,
     "metadata": {},
     "output_type": "execute_result"
    }
   ],
   "source": [
    "d_test.shape"
   ]
  },
  {
   "cell_type": "code",
   "execution_count": 9,
   "metadata": {},
   "outputs": [
    {
     "data": {
      "text/html": [
       "<div>\n",
       "<style scoped>\n",
       "    .dataframe tbody tr th:only-of-type {\n",
       "        vertical-align: middle;\n",
       "    }\n",
       "\n",
       "    .dataframe tbody tr th {\n",
       "        vertical-align: top;\n",
       "    }\n",
       "\n",
       "    .dataframe thead th {\n",
       "        text-align: right;\n",
       "    }\n",
       "</style>\n",
       "<table border=\"1\" class=\"dataframe\">\n",
       "  <thead>\n",
       "    <tr style=\"text-align: right;\">\n",
       "      <th></th>\n",
       "      <th>x1</th>\n",
       "      <th>x2</th>\n",
       "      <th>x3</th>\n",
       "      <th>x4</th>\n",
       "      <th>x5</th>\n",
       "      <th>x6</th>\n",
       "      <th>x7</th>\n",
       "      <th>x8</th>\n",
       "      <th>x9</th>\n",
       "      <th>x10</th>\n",
       "      <th>...</th>\n",
       "      <th>x17</th>\n",
       "      <th>x18</th>\n",
       "      <th>x19</th>\n",
       "      <th>x20</th>\n",
       "      <th>x21</th>\n",
       "      <th>x22</th>\n",
       "      <th>x23</th>\n",
       "      <th>x24</th>\n",
       "      <th>x25</th>\n",
       "      <th>y</th>\n",
       "    </tr>\n",
       "  </thead>\n",
       "  <tbody>\n",
       "    <tr>\n",
       "      <td>0</td>\n",
       "      <td>3.0</td>\n",
       "      <td>-0.183355</td>\n",
       "      <td>-4.634184</td>\n",
       "      <td>1.184842</td>\n",
       "      <td>5.470261</td>\n",
       "      <td>3.672736</td>\n",
       "      <td>-4.030212</td>\n",
       "      <td>2.689942</td>\n",
       "      <td>8.962724</td>\n",
       "      <td>2.484879</td>\n",
       "      <td>...</td>\n",
       "      <td>-15.994611</td>\n",
       "      <td>15.024532</td>\n",
       "      <td>23.204973</td>\n",
       "      <td>2.528437</td>\n",
       "      <td>8.962604</td>\n",
       "      <td>0.266541</td>\n",
       "      <td>-1.383385</td>\n",
       "      <td>-1.029273</td>\n",
       "      <td>1.711146</td>\n",
       "      <td>1.0</td>\n",
       "    </tr>\n",
       "    <tr>\n",
       "      <td>1</td>\n",
       "      <td>2.0</td>\n",
       "      <td>1.643093</td>\n",
       "      <td>0.232917</td>\n",
       "      <td>-3.235598</td>\n",
       "      <td>-0.082242</td>\n",
       "      <td>-6.190242</td>\n",
       "      <td>-2.308474</td>\n",
       "      <td>-0.968020</td>\n",
       "      <td>-5.374390</td>\n",
       "      <td>2.460543</td>\n",
       "      <td>...</td>\n",
       "      <td>22.711908</td>\n",
       "      <td>45.220479</td>\n",
       "      <td>-0.635627</td>\n",
       "      <td>22.675962</td>\n",
       "      <td>32.937243</td>\n",
       "      <td>-1.082314</td>\n",
       "      <td>0.571426</td>\n",
       "      <td>-0.063689</td>\n",
       "      <td>-3.122653</td>\n",
       "      <td>1.0</td>\n",
       "    </tr>\n",
       "    <tr>\n",
       "      <td>2</td>\n",
       "      <td>1.0</td>\n",
       "      <td>0.812938</td>\n",
       "      <td>0.095642</td>\n",
       "      <td>-1.170322</td>\n",
       "      <td>-1.808930</td>\n",
       "      <td>-2.618295</td>\n",
       "      <td>1.613534</td>\n",
       "      <td>-5.186820</td>\n",
       "      <td>-0.011963</td>\n",
       "      <td>3.381312</td>\n",
       "      <td>...</td>\n",
       "      <td>-3.333037</td>\n",
       "      <td>-8.586271</td>\n",
       "      <td>-3.326587</td>\n",
       "      <td>5.033094</td>\n",
       "      <td>-5.385510</td>\n",
       "      <td>-1.281024</td>\n",
       "      <td>-0.788055</td>\n",
       "      <td>0.505804</td>\n",
       "      <td>-0.891985</td>\n",
       "      <td>0.0</td>\n",
       "    </tr>\n",
       "    <tr>\n",
       "      <td>3</td>\n",
       "      <td>2.0</td>\n",
       "      <td>-0.250723</td>\n",
       "      <td>0.011880</td>\n",
       "      <td>2.086732</td>\n",
       "      <td>-2.476512</td>\n",
       "      <td>-0.265453</td>\n",
       "      <td>4.399695</td>\n",
       "      <td>-0.159362</td>\n",
       "      <td>0.674294</td>\n",
       "      <td>-7.503565</td>\n",
       "      <td>...</td>\n",
       "      <td>4.438590</td>\n",
       "      <td>9.183342</td>\n",
       "      <td>7.087640</td>\n",
       "      <td>25.453062</td>\n",
       "      <td>12.087652</td>\n",
       "      <td>-0.613746</td>\n",
       "      <td>0.141558</td>\n",
       "      <td>-0.206084</td>\n",
       "      <td>0.538862</td>\n",
       "      <td>0.0</td>\n",
       "    </tr>\n",
       "    <tr>\n",
       "      <td>4</td>\n",
       "      <td>2.0</td>\n",
       "      <td>1.215325</td>\n",
       "      <td>1.675581</td>\n",
       "      <td>2.193322</td>\n",
       "      <td>2.983158</td>\n",
       "      <td>0.007759</td>\n",
       "      <td>2.983193</td>\n",
       "      <td>2.731582</td>\n",
       "      <td>2.418476</td>\n",
       "      <td>-6.947729</td>\n",
       "      <td>...</td>\n",
       "      <td>-21.198210</td>\n",
       "      <td>19.839208</td>\n",
       "      <td>9.945454</td>\n",
       "      <td>13.003429</td>\n",
       "      <td>-10.114149</td>\n",
       "      <td>-0.111361</td>\n",
       "      <td>-0.954487</td>\n",
       "      <td>0.825140</td>\n",
       "      <td>1.437519</td>\n",
       "      <td>1.0</td>\n",
       "    </tr>\n",
       "  </tbody>\n",
       "</table>\n",
       "<p>5 rows × 26 columns</p>\n",
       "</div>"
      ],
      "text/plain": [
       "    x1        x2        x3        x4        x5        x6        x7        x8  \\\n",
       "0  3.0 -0.183355 -4.634184  1.184842  5.470261  3.672736 -4.030212  2.689942   \n",
       "1  2.0  1.643093  0.232917 -3.235598 -0.082242 -6.190242 -2.308474 -0.968020   \n",
       "2  1.0  0.812938  0.095642 -1.170322 -1.808930 -2.618295  1.613534 -5.186820   \n",
       "3  2.0 -0.250723  0.011880  2.086732 -2.476512 -0.265453  4.399695 -0.159362   \n",
       "4  2.0  1.215325  1.675581  2.193322  2.983158  0.007759  2.983193  2.731582   \n",
       "\n",
       "         x9       x10  ...        x17        x18        x19        x20  \\\n",
       "0  8.962724  2.484879  ... -15.994611  15.024532  23.204973   2.528437   \n",
       "1 -5.374390  2.460543  ...  22.711908  45.220479  -0.635627  22.675962   \n",
       "2 -0.011963  3.381312  ...  -3.333037  -8.586271  -3.326587   5.033094   \n",
       "3  0.674294 -7.503565  ...   4.438590   9.183342   7.087640  25.453062   \n",
       "4  2.418476 -6.947729  ... -21.198210  19.839208   9.945454  13.003429   \n",
       "\n",
       "         x21       x22       x23       x24       x25    y  \n",
       "0   8.962604  0.266541 -1.383385 -1.029273  1.711146  1.0  \n",
       "1  32.937243 -1.082314  0.571426 -0.063689 -3.122653  1.0  \n",
       "2  -5.385510 -1.281024 -0.788055  0.505804 -0.891985  0.0  \n",
       "3  12.087652 -0.613746  0.141558 -0.206084  0.538862  0.0  \n",
       "4 -10.114149 -0.111361 -0.954487  0.825140  1.437519  1.0  \n",
       "\n",
       "[5 rows x 26 columns]"
      ]
     },
     "execution_count": 9,
     "metadata": {},
     "output_type": "execute_result"
    }
   ],
   "source": [
    "d_train.head()"
   ]
  },
  {
   "cell_type": "code",
   "execution_count": 10,
   "metadata": {},
   "outputs": [
    {
     "data": {
      "text/plain": [
       "x1     0\n",
       "x2     0\n",
       "x3     0\n",
       "x4     0\n",
       "x5     0\n",
       "x6     0\n",
       "x7     0\n",
       "x8     0\n",
       "x9     0\n",
       "x10    0\n",
       "x11    0\n",
       "x12    0\n",
       "x13    0\n",
       "x14    0\n",
       "x15    0\n",
       "x16    0\n",
       "x17    0\n",
       "x18    0\n",
       "x19    0\n",
       "x20    0\n",
       "x21    0\n",
       "x22    0\n",
       "x23    0\n",
       "x24    0\n",
       "x25    0\n",
       "y      0\n",
       "dtype: int64"
      ]
     },
     "execution_count": 10,
     "metadata": {},
     "output_type": "execute_result"
    }
   ],
   "source": [
    "d_train.isnull().sum()"
   ]
  },
  {
   "cell_type": "code",
   "execution_count": 11,
   "metadata": {},
   "outputs": [
    {
     "data": {
      "text/html": [
       "<div>\n",
       "<style scoped>\n",
       "    .dataframe tbody tr th:only-of-type {\n",
       "        vertical-align: middle;\n",
       "    }\n",
       "\n",
       "    .dataframe tbody tr th {\n",
       "        vertical-align: top;\n",
       "    }\n",
       "\n",
       "    .dataframe thead th {\n",
       "        text-align: right;\n",
       "    }\n",
       "</style>\n",
       "<table border=\"1\" class=\"dataframe\">\n",
       "  <thead>\n",
       "    <tr style=\"text-align: right;\">\n",
       "      <th></th>\n",
       "      <th>x1</th>\n",
       "      <th>x2</th>\n",
       "      <th>x3</th>\n",
       "      <th>x4</th>\n",
       "      <th>x5</th>\n",
       "      <th>x6</th>\n",
       "      <th>x7</th>\n",
       "      <th>x8</th>\n",
       "      <th>x9</th>\n",
       "      <th>x10</th>\n",
       "      <th>...</th>\n",
       "      <th>x17</th>\n",
       "      <th>x18</th>\n",
       "      <th>x19</th>\n",
       "      <th>x20</th>\n",
       "      <th>x21</th>\n",
       "      <th>x22</th>\n",
       "      <th>x23</th>\n",
       "      <th>x24</th>\n",
       "      <th>x25</th>\n",
       "      <th>y</th>\n",
       "    </tr>\n",
       "  </thead>\n",
       "  <tbody>\n",
       "    <tr>\n",
       "      <td>x1</td>\n",
       "      <td>1.000000</td>\n",
       "      <td>0.042812</td>\n",
       "      <td>0.017001</td>\n",
       "      <td>0.022066</td>\n",
       "      <td>0.012279</td>\n",
       "      <td>0.011284</td>\n",
       "      <td>0.002843</td>\n",
       "      <td>0.007657</td>\n",
       "      <td>0.002178</td>\n",
       "      <td>0.004642</td>\n",
       "      <td>...</td>\n",
       "      <td>0.002294</td>\n",
       "      <td>-0.001718</td>\n",
       "      <td>0.006434</td>\n",
       "      <td>0.002433</td>\n",
       "      <td>0.001746</td>\n",
       "      <td>-0.004724</td>\n",
       "      <td>-0.001768</td>\n",
       "      <td>-0.001951</td>\n",
       "      <td>-0.007909</td>\n",
       "      <td>0.645521</td>\n",
       "    </tr>\n",
       "    <tr>\n",
       "      <td>x2</td>\n",
       "      <td>0.042812</td>\n",
       "      <td>1.000000</td>\n",
       "      <td>0.009370</td>\n",
       "      <td>0.004814</td>\n",
       "      <td>0.004140</td>\n",
       "      <td>0.010911</td>\n",
       "      <td>-0.003001</td>\n",
       "      <td>0.002167</td>\n",
       "      <td>0.000793</td>\n",
       "      <td>-0.000320</td>\n",
       "      <td>...</td>\n",
       "      <td>0.008952</td>\n",
       "      <td>0.007413</td>\n",
       "      <td>0.017165</td>\n",
       "      <td>-0.004667</td>\n",
       "      <td>0.009169</td>\n",
       "      <td>-0.005354</td>\n",
       "      <td>0.001802</td>\n",
       "      <td>0.006215</td>\n",
       "      <td>-0.006513</td>\n",
       "      <td>0.059027</td>\n",
       "    </tr>\n",
       "    <tr>\n",
       "      <td>x3</td>\n",
       "      <td>0.017001</td>\n",
       "      <td>0.009370</td>\n",
       "      <td>1.000000</td>\n",
       "      <td>-0.013277</td>\n",
       "      <td>-0.000698</td>\n",
       "      <td>-0.000171</td>\n",
       "      <td>-0.009328</td>\n",
       "      <td>0.002285</td>\n",
       "      <td>-0.000420</td>\n",
       "      <td>-0.004048</td>\n",
       "      <td>...</td>\n",
       "      <td>0.001640</td>\n",
       "      <td>-0.003407</td>\n",
       "      <td>0.016397</td>\n",
       "      <td>-0.002907</td>\n",
       "      <td>0.004583</td>\n",
       "      <td>0.001094</td>\n",
       "      <td>0.002264</td>\n",
       "      <td>0.004520</td>\n",
       "      <td>-0.008032</td>\n",
       "      <td>0.032038</td>\n",
       "    </tr>\n",
       "    <tr>\n",
       "      <td>x4</td>\n",
       "      <td>0.022066</td>\n",
       "      <td>0.004814</td>\n",
       "      <td>-0.013277</td>\n",
       "      <td>1.000000</td>\n",
       "      <td>-0.002496</td>\n",
       "      <td>-0.000451</td>\n",
       "      <td>-0.011144</td>\n",
       "      <td>-0.011622</td>\n",
       "      <td>-0.001187</td>\n",
       "      <td>0.003624</td>\n",
       "      <td>...</td>\n",
       "      <td>0.006318</td>\n",
       "      <td>-0.001546</td>\n",
       "      <td>-0.007427</td>\n",
       "      <td>0.001795</td>\n",
       "      <td>0.005536</td>\n",
       "      <td>0.009955</td>\n",
       "      <td>0.003050</td>\n",
       "      <td>-0.013507</td>\n",
       "      <td>-0.003394</td>\n",
       "      <td>0.021911</td>\n",
       "    </tr>\n",
       "    <tr>\n",
       "      <td>x5</td>\n",
       "      <td>0.012279</td>\n",
       "      <td>0.004140</td>\n",
       "      <td>-0.000698</td>\n",
       "      <td>-0.002496</td>\n",
       "      <td>1.000000</td>\n",
       "      <td>-0.002483</td>\n",
       "      <td>-0.001346</td>\n",
       "      <td>-0.009791</td>\n",
       "      <td>0.008413</td>\n",
       "      <td>-0.000734</td>\n",
       "      <td>...</td>\n",
       "      <td>0.003574</td>\n",
       "      <td>0.000143</td>\n",
       "      <td>-0.001876</td>\n",
       "      <td>-0.012364</td>\n",
       "      <td>-0.002799</td>\n",
       "      <td>0.002720</td>\n",
       "      <td>-0.009968</td>\n",
       "      <td>-0.006636</td>\n",
       "      <td>0.006353</td>\n",
       "      <td>0.014382</td>\n",
       "    </tr>\n",
       "    <tr>\n",
       "      <td>x6</td>\n",
       "      <td>0.011284</td>\n",
       "      <td>0.010911</td>\n",
       "      <td>-0.000171</td>\n",
       "      <td>-0.000451</td>\n",
       "      <td>-0.002483</td>\n",
       "      <td>1.000000</td>\n",
       "      <td>-0.003190</td>\n",
       "      <td>0.009258</td>\n",
       "      <td>0.006450</td>\n",
       "      <td>-0.003758</td>\n",
       "      <td>...</td>\n",
       "      <td>-0.008373</td>\n",
       "      <td>-0.000469</td>\n",
       "      <td>-0.006034</td>\n",
       "      <td>0.017874</td>\n",
       "      <td>0.012135</td>\n",
       "      <td>0.007652</td>\n",
       "      <td>0.006681</td>\n",
       "      <td>0.007486</td>\n",
       "      <td>-0.001817</td>\n",
       "      <td>0.005985</td>\n",
       "    </tr>\n",
       "    <tr>\n",
       "      <td>x7</td>\n",
       "      <td>0.002843</td>\n",
       "      <td>-0.003001</td>\n",
       "      <td>-0.009328</td>\n",
       "      <td>-0.011144</td>\n",
       "      <td>-0.001346</td>\n",
       "      <td>-0.003190</td>\n",
       "      <td>1.000000</td>\n",
       "      <td>0.010753</td>\n",
       "      <td>-0.004935</td>\n",
       "      <td>0.005462</td>\n",
       "      <td>...</td>\n",
       "      <td>-0.006655</td>\n",
       "      <td>0.004709</td>\n",
       "      <td>0.005212</td>\n",
       "      <td>-0.002142</td>\n",
       "      <td>-0.000945</td>\n",
       "      <td>0.006439</td>\n",
       "      <td>-0.006021</td>\n",
       "      <td>-0.000096</td>\n",
       "      <td>0.002996</td>\n",
       "      <td>0.013571</td>\n",
       "    </tr>\n",
       "    <tr>\n",
       "      <td>x8</td>\n",
       "      <td>0.007657</td>\n",
       "      <td>0.002167</td>\n",
       "      <td>0.002285</td>\n",
       "      <td>-0.011622</td>\n",
       "      <td>-0.009791</td>\n",
       "      <td>0.009258</td>\n",
       "      <td>0.010753</td>\n",
       "      <td>1.000000</td>\n",
       "      <td>-0.001296</td>\n",
       "      <td>-0.007731</td>\n",
       "      <td>...</td>\n",
       "      <td>0.015459</td>\n",
       "      <td>-0.004069</td>\n",
       "      <td>0.001232</td>\n",
       "      <td>0.000194</td>\n",
       "      <td>0.008315</td>\n",
       "      <td>0.002742</td>\n",
       "      <td>-0.005390</td>\n",
       "      <td>-0.002110</td>\n",
       "      <td>-0.005346</td>\n",
       "      <td>0.003217</td>\n",
       "    </tr>\n",
       "    <tr>\n",
       "      <td>x9</td>\n",
       "      <td>0.002178</td>\n",
       "      <td>0.000793</td>\n",
       "      <td>-0.000420</td>\n",
       "      <td>-0.001187</td>\n",
       "      <td>0.008413</td>\n",
       "      <td>0.006450</td>\n",
       "      <td>-0.004935</td>\n",
       "      <td>-0.001296</td>\n",
       "      <td>1.000000</td>\n",
       "      <td>-0.004187</td>\n",
       "      <td>...</td>\n",
       "      <td>0.010846</td>\n",
       "      <td>0.002539</td>\n",
       "      <td>0.011296</td>\n",
       "      <td>-0.006515</td>\n",
       "      <td>0.002016</td>\n",
       "      <td>-0.007069</td>\n",
       "      <td>0.009434</td>\n",
       "      <td>-0.007807</td>\n",
       "      <td>-0.011048</td>\n",
       "      <td>0.011117</td>\n",
       "    </tr>\n",
       "    <tr>\n",
       "      <td>x10</td>\n",
       "      <td>0.004642</td>\n",
       "      <td>-0.000320</td>\n",
       "      <td>-0.004048</td>\n",
       "      <td>0.003624</td>\n",
       "      <td>-0.000734</td>\n",
       "      <td>-0.003758</td>\n",
       "      <td>0.005462</td>\n",
       "      <td>-0.007731</td>\n",
       "      <td>-0.004187</td>\n",
       "      <td>1.000000</td>\n",
       "      <td>...</td>\n",
       "      <td>-0.004846</td>\n",
       "      <td>0.020812</td>\n",
       "      <td>0.004163</td>\n",
       "      <td>0.005138</td>\n",
       "      <td>0.000689</td>\n",
       "      <td>0.003840</td>\n",
       "      <td>0.008389</td>\n",
       "      <td>0.000248</td>\n",
       "      <td>-0.002562</td>\n",
       "      <td>0.013250</td>\n",
       "    </tr>\n",
       "    <tr>\n",
       "      <td>x11</td>\n",
       "      <td>-0.006223</td>\n",
       "      <td>0.009409</td>\n",
       "      <td>-0.002843</td>\n",
       "      <td>-0.000390</td>\n",
       "      <td>-0.007108</td>\n",
       "      <td>0.002276</td>\n",
       "      <td>0.004109</td>\n",
       "      <td>-0.002690</td>\n",
       "      <td>-0.002860</td>\n",
       "      <td>0.002275</td>\n",
       "      <td>...</td>\n",
       "      <td>-0.004807</td>\n",
       "      <td>0.007477</td>\n",
       "      <td>0.001244</td>\n",
       "      <td>-0.003438</td>\n",
       "      <td>0.002227</td>\n",
       "      <td>0.002139</td>\n",
       "      <td>-0.003227</td>\n",
       "      <td>-0.005717</td>\n",
       "      <td>0.001454</td>\n",
       "      <td>0.003116</td>\n",
       "    </tr>\n",
       "    <tr>\n",
       "      <td>x12</td>\n",
       "      <td>0.009908</td>\n",
       "      <td>-0.002721</td>\n",
       "      <td>0.007174</td>\n",
       "      <td>-0.004161</td>\n",
       "      <td>-0.002987</td>\n",
       "      <td>-0.000638</td>\n",
       "      <td>-0.004499</td>\n",
       "      <td>0.002353</td>\n",
       "      <td>-0.002922</td>\n",
       "      <td>-0.001261</td>\n",
       "      <td>...</td>\n",
       "      <td>0.008967</td>\n",
       "      <td>-0.006380</td>\n",
       "      <td>-0.005424</td>\n",
       "      <td>-0.008764</td>\n",
       "      <td>0.002121</td>\n",
       "      <td>0.001051</td>\n",
       "      <td>-0.003560</td>\n",
       "      <td>-0.003376</td>\n",
       "      <td>-0.019420</td>\n",
       "      <td>0.010687</td>\n",
       "    </tr>\n",
       "    <tr>\n",
       "      <td>x13</td>\n",
       "      <td>0.001593</td>\n",
       "      <td>0.003798</td>\n",
       "      <td>0.014575</td>\n",
       "      <td>0.005691</td>\n",
       "      <td>0.001957</td>\n",
       "      <td>-0.003971</td>\n",
       "      <td>-0.008415</td>\n",
       "      <td>-0.001240</td>\n",
       "      <td>-0.015587</td>\n",
       "      <td>0.012297</td>\n",
       "      <td>...</td>\n",
       "      <td>-0.004475</td>\n",
       "      <td>0.007930</td>\n",
       "      <td>0.003892</td>\n",
       "      <td>-0.000784</td>\n",
       "      <td>-0.007852</td>\n",
       "      <td>0.005686</td>\n",
       "      <td>0.000407</td>\n",
       "      <td>0.001590</td>\n",
       "      <td>-0.002816</td>\n",
       "      <td>-0.000582</td>\n",
       "    </tr>\n",
       "    <tr>\n",
       "      <td>x14</td>\n",
       "      <td>-0.003007</td>\n",
       "      <td>0.007746</td>\n",
       "      <td>0.005296</td>\n",
       "      <td>-0.005074</td>\n",
       "      <td>0.004033</td>\n",
       "      <td>0.001202</td>\n",
       "      <td>0.007808</td>\n",
       "      <td>-0.010379</td>\n",
       "      <td>0.001803</td>\n",
       "      <td>-0.004478</td>\n",
       "      <td>...</td>\n",
       "      <td>-0.007388</td>\n",
       "      <td>0.012733</td>\n",
       "      <td>-0.006278</td>\n",
       "      <td>0.002711</td>\n",
       "      <td>0.003890</td>\n",
       "      <td>0.003698</td>\n",
       "      <td>-0.006541</td>\n",
       "      <td>-0.008309</td>\n",
       "      <td>-0.003322</td>\n",
       "      <td>0.001930</td>\n",
       "    </tr>\n",
       "    <tr>\n",
       "      <td>x15</td>\n",
       "      <td>0.010383</td>\n",
       "      <td>0.008981</td>\n",
       "      <td>-0.009400</td>\n",
       "      <td>0.000200</td>\n",
       "      <td>-0.005063</td>\n",
       "      <td>0.012650</td>\n",
       "      <td>0.007802</td>\n",
       "      <td>-0.004209</td>\n",
       "      <td>0.007869</td>\n",
       "      <td>-0.002250</td>\n",
       "      <td>...</td>\n",
       "      <td>-0.001562</td>\n",
       "      <td>0.005529</td>\n",
       "      <td>0.002118</td>\n",
       "      <td>-0.000983</td>\n",
       "      <td>0.002328</td>\n",
       "      <td>-0.009672</td>\n",
       "      <td>0.003037</td>\n",
       "      <td>0.008244</td>\n",
       "      <td>-0.004658</td>\n",
       "      <td>0.011695</td>\n",
       "    </tr>\n",
       "    <tr>\n",
       "      <td>x16</td>\n",
       "      <td>0.008739</td>\n",
       "      <td>-0.001928</td>\n",
       "      <td>-0.007051</td>\n",
       "      <td>-0.002705</td>\n",
       "      <td>0.005458</td>\n",
       "      <td>-0.004114</td>\n",
       "      <td>0.004078</td>\n",
       "      <td>0.013658</td>\n",
       "      <td>0.004889</td>\n",
       "      <td>0.001921</td>\n",
       "      <td>...</td>\n",
       "      <td>-0.011656</td>\n",
       "      <td>-0.013863</td>\n",
       "      <td>0.005628</td>\n",
       "      <td>-0.004387</td>\n",
       "      <td>-0.003367</td>\n",
       "      <td>-0.005021</td>\n",
       "      <td>-0.007976</td>\n",
       "      <td>-0.005537</td>\n",
       "      <td>0.003878</td>\n",
       "      <td>0.006626</td>\n",
       "    </tr>\n",
       "    <tr>\n",
       "      <td>x17</td>\n",
       "      <td>0.002294</td>\n",
       "      <td>0.008952</td>\n",
       "      <td>0.001640</td>\n",
       "      <td>0.006318</td>\n",
       "      <td>0.003574</td>\n",
       "      <td>-0.008373</td>\n",
       "      <td>-0.006655</td>\n",
       "      <td>0.015459</td>\n",
       "      <td>0.010846</td>\n",
       "      <td>-0.004846</td>\n",
       "      <td>...</td>\n",
       "      <td>1.000000</td>\n",
       "      <td>-0.004769</td>\n",
       "      <td>-0.006576</td>\n",
       "      <td>0.004622</td>\n",
       "      <td>-0.005790</td>\n",
       "      <td>-0.006684</td>\n",
       "      <td>-0.003079</td>\n",
       "      <td>0.015486</td>\n",
       "      <td>0.008417</td>\n",
       "      <td>0.007402</td>\n",
       "    </tr>\n",
       "    <tr>\n",
       "      <td>x18</td>\n",
       "      <td>-0.001718</td>\n",
       "      <td>0.007413</td>\n",
       "      <td>-0.003407</td>\n",
       "      <td>-0.001546</td>\n",
       "      <td>0.000143</td>\n",
       "      <td>-0.000469</td>\n",
       "      <td>0.004709</td>\n",
       "      <td>-0.004069</td>\n",
       "      <td>0.002539</td>\n",
       "      <td>0.020812</td>\n",
       "      <td>...</td>\n",
       "      <td>-0.004769</td>\n",
       "      <td>1.000000</td>\n",
       "      <td>0.005182</td>\n",
       "      <td>0.005126</td>\n",
       "      <td>0.003203</td>\n",
       "      <td>-0.000953</td>\n",
       "      <td>0.006797</td>\n",
       "      <td>-0.004917</td>\n",
       "      <td>0.005964</td>\n",
       "      <td>0.000558</td>\n",
       "    </tr>\n",
       "    <tr>\n",
       "      <td>x19</td>\n",
       "      <td>0.006434</td>\n",
       "      <td>0.017165</td>\n",
       "      <td>0.016397</td>\n",
       "      <td>-0.007427</td>\n",
       "      <td>-0.001876</td>\n",
       "      <td>-0.006034</td>\n",
       "      <td>0.005212</td>\n",
       "      <td>0.001232</td>\n",
       "      <td>0.011296</td>\n",
       "      <td>0.004163</td>\n",
       "      <td>...</td>\n",
       "      <td>-0.006576</td>\n",
       "      <td>0.005182</td>\n",
       "      <td>1.000000</td>\n",
       "      <td>-0.002291</td>\n",
       "      <td>-0.002748</td>\n",
       "      <td>-0.001195</td>\n",
       "      <td>-0.000395</td>\n",
       "      <td>-0.019100</td>\n",
       "      <td>-0.001050</td>\n",
       "      <td>0.005778</td>\n",
       "    </tr>\n",
       "    <tr>\n",
       "      <td>x20</td>\n",
       "      <td>0.002433</td>\n",
       "      <td>-0.004667</td>\n",
       "      <td>-0.002907</td>\n",
       "      <td>0.001795</td>\n",
       "      <td>-0.012364</td>\n",
       "      <td>0.017874</td>\n",
       "      <td>-0.002142</td>\n",
       "      <td>0.000194</td>\n",
       "      <td>-0.006515</td>\n",
       "      <td>0.005138</td>\n",
       "      <td>...</td>\n",
       "      <td>0.004622</td>\n",
       "      <td>0.005126</td>\n",
       "      <td>-0.002291</td>\n",
       "      <td>1.000000</td>\n",
       "      <td>-0.017292</td>\n",
       "      <td>0.000594</td>\n",
       "      <td>-0.003775</td>\n",
       "      <td>-0.005262</td>\n",
       "      <td>0.006513</td>\n",
       "      <td>0.005097</td>\n",
       "    </tr>\n",
       "    <tr>\n",
       "      <td>x21</td>\n",
       "      <td>0.001746</td>\n",
       "      <td>0.009169</td>\n",
       "      <td>0.004583</td>\n",
       "      <td>0.005536</td>\n",
       "      <td>-0.002799</td>\n",
       "      <td>0.012135</td>\n",
       "      <td>-0.000945</td>\n",
       "      <td>0.008315</td>\n",
       "      <td>0.002016</td>\n",
       "      <td>0.000689</td>\n",
       "      <td>...</td>\n",
       "      <td>-0.005790</td>\n",
       "      <td>0.003203</td>\n",
       "      <td>-0.002748</td>\n",
       "      <td>-0.017292</td>\n",
       "      <td>1.000000</td>\n",
       "      <td>-0.002123</td>\n",
       "      <td>0.009648</td>\n",
       "      <td>-0.003440</td>\n",
       "      <td>-0.004267</td>\n",
       "      <td>0.009889</td>\n",
       "    </tr>\n",
       "    <tr>\n",
       "      <td>x22</td>\n",
       "      <td>-0.004724</td>\n",
       "      <td>-0.005354</td>\n",
       "      <td>0.001094</td>\n",
       "      <td>0.009955</td>\n",
       "      <td>0.002720</td>\n",
       "      <td>0.007652</td>\n",
       "      <td>0.006439</td>\n",
       "      <td>0.002742</td>\n",
       "      <td>-0.007069</td>\n",
       "      <td>0.003840</td>\n",
       "      <td>...</td>\n",
       "      <td>-0.006684</td>\n",
       "      <td>-0.000953</td>\n",
       "      <td>-0.001195</td>\n",
       "      <td>0.000594</td>\n",
       "      <td>-0.002123</td>\n",
       "      <td>1.000000</td>\n",
       "      <td>-0.001996</td>\n",
       "      <td>0.005607</td>\n",
       "      <td>0.006673</td>\n",
       "      <td>-0.009640</td>\n",
       "    </tr>\n",
       "    <tr>\n",
       "      <td>x23</td>\n",
       "      <td>-0.001768</td>\n",
       "      <td>0.001802</td>\n",
       "      <td>0.002264</td>\n",
       "      <td>0.003050</td>\n",
       "      <td>-0.009968</td>\n",
       "      <td>0.006681</td>\n",
       "      <td>-0.006021</td>\n",
       "      <td>-0.005390</td>\n",
       "      <td>0.009434</td>\n",
       "      <td>0.008389</td>\n",
       "      <td>...</td>\n",
       "      <td>-0.003079</td>\n",
       "      <td>0.006797</td>\n",
       "      <td>-0.000395</td>\n",
       "      <td>-0.003775</td>\n",
       "      <td>0.009648</td>\n",
       "      <td>-0.001996</td>\n",
       "      <td>1.000000</td>\n",
       "      <td>-0.004651</td>\n",
       "      <td>-0.003284</td>\n",
       "      <td>-0.000764</td>\n",
       "    </tr>\n",
       "    <tr>\n",
       "      <td>x24</td>\n",
       "      <td>-0.001951</td>\n",
       "      <td>0.006215</td>\n",
       "      <td>0.004520</td>\n",
       "      <td>-0.013507</td>\n",
       "      <td>-0.006636</td>\n",
       "      <td>0.007486</td>\n",
       "      <td>-0.000096</td>\n",
       "      <td>-0.002110</td>\n",
       "      <td>-0.007807</td>\n",
       "      <td>0.000248</td>\n",
       "      <td>...</td>\n",
       "      <td>0.015486</td>\n",
       "      <td>-0.004917</td>\n",
       "      <td>-0.019100</td>\n",
       "      <td>-0.005262</td>\n",
       "      <td>-0.003440</td>\n",
       "      <td>0.005607</td>\n",
       "      <td>-0.004651</td>\n",
       "      <td>1.000000</td>\n",
       "      <td>-0.001062</td>\n",
       "      <td>0.003080</td>\n",
       "    </tr>\n",
       "    <tr>\n",
       "      <td>x25</td>\n",
       "      <td>-0.007909</td>\n",
       "      <td>-0.006513</td>\n",
       "      <td>-0.008032</td>\n",
       "      <td>-0.003394</td>\n",
       "      <td>0.006353</td>\n",
       "      <td>-0.001817</td>\n",
       "      <td>0.002996</td>\n",
       "      <td>-0.005346</td>\n",
       "      <td>-0.011048</td>\n",
       "      <td>-0.002562</td>\n",
       "      <td>...</td>\n",
       "      <td>0.008417</td>\n",
       "      <td>0.005964</td>\n",
       "      <td>-0.001050</td>\n",
       "      <td>0.006513</td>\n",
       "      <td>-0.004267</td>\n",
       "      <td>0.006673</td>\n",
       "      <td>-0.003284</td>\n",
       "      <td>-0.001062</td>\n",
       "      <td>1.000000</td>\n",
       "      <td>-0.006244</td>\n",
       "    </tr>\n",
       "    <tr>\n",
       "      <td>y</td>\n",
       "      <td>0.645521</td>\n",
       "      <td>0.059027</td>\n",
       "      <td>0.032038</td>\n",
       "      <td>0.021911</td>\n",
       "      <td>0.014382</td>\n",
       "      <td>0.005985</td>\n",
       "      <td>0.013571</td>\n",
       "      <td>0.003217</td>\n",
       "      <td>0.011117</td>\n",
       "      <td>0.013250</td>\n",
       "      <td>...</td>\n",
       "      <td>0.007402</td>\n",
       "      <td>0.000558</td>\n",
       "      <td>0.005778</td>\n",
       "      <td>0.005097</td>\n",
       "      <td>0.009889</td>\n",
       "      <td>-0.009640</td>\n",
       "      <td>-0.000764</td>\n",
       "      <td>0.003080</td>\n",
       "      <td>-0.006244</td>\n",
       "      <td>1.000000</td>\n",
       "    </tr>\n",
       "  </tbody>\n",
       "</table>\n",
       "<p>26 rows × 26 columns</p>\n",
       "</div>"
      ],
      "text/plain": [
       "           x1        x2        x3        x4        x5        x6        x7  \\\n",
       "x1   1.000000  0.042812  0.017001  0.022066  0.012279  0.011284  0.002843   \n",
       "x2   0.042812  1.000000  0.009370  0.004814  0.004140  0.010911 -0.003001   \n",
       "x3   0.017001  0.009370  1.000000 -0.013277 -0.000698 -0.000171 -0.009328   \n",
       "x4   0.022066  0.004814 -0.013277  1.000000 -0.002496 -0.000451 -0.011144   \n",
       "x5   0.012279  0.004140 -0.000698 -0.002496  1.000000 -0.002483 -0.001346   \n",
       "x6   0.011284  0.010911 -0.000171 -0.000451 -0.002483  1.000000 -0.003190   \n",
       "x7   0.002843 -0.003001 -0.009328 -0.011144 -0.001346 -0.003190  1.000000   \n",
       "x8   0.007657  0.002167  0.002285 -0.011622 -0.009791  0.009258  0.010753   \n",
       "x9   0.002178  0.000793 -0.000420 -0.001187  0.008413  0.006450 -0.004935   \n",
       "x10  0.004642 -0.000320 -0.004048  0.003624 -0.000734 -0.003758  0.005462   \n",
       "x11 -0.006223  0.009409 -0.002843 -0.000390 -0.007108  0.002276  0.004109   \n",
       "x12  0.009908 -0.002721  0.007174 -0.004161 -0.002987 -0.000638 -0.004499   \n",
       "x13  0.001593  0.003798  0.014575  0.005691  0.001957 -0.003971 -0.008415   \n",
       "x14 -0.003007  0.007746  0.005296 -0.005074  0.004033  0.001202  0.007808   \n",
       "x15  0.010383  0.008981 -0.009400  0.000200 -0.005063  0.012650  0.007802   \n",
       "x16  0.008739 -0.001928 -0.007051 -0.002705  0.005458 -0.004114  0.004078   \n",
       "x17  0.002294  0.008952  0.001640  0.006318  0.003574 -0.008373 -0.006655   \n",
       "x18 -0.001718  0.007413 -0.003407 -0.001546  0.000143 -0.000469  0.004709   \n",
       "x19  0.006434  0.017165  0.016397 -0.007427 -0.001876 -0.006034  0.005212   \n",
       "x20  0.002433 -0.004667 -0.002907  0.001795 -0.012364  0.017874 -0.002142   \n",
       "x21  0.001746  0.009169  0.004583  0.005536 -0.002799  0.012135 -0.000945   \n",
       "x22 -0.004724 -0.005354  0.001094  0.009955  0.002720  0.007652  0.006439   \n",
       "x23 -0.001768  0.001802  0.002264  0.003050 -0.009968  0.006681 -0.006021   \n",
       "x24 -0.001951  0.006215  0.004520 -0.013507 -0.006636  0.007486 -0.000096   \n",
       "x25 -0.007909 -0.006513 -0.008032 -0.003394  0.006353 -0.001817  0.002996   \n",
       "y    0.645521  0.059027  0.032038  0.021911  0.014382  0.005985  0.013571   \n",
       "\n",
       "           x8        x9       x10  ...       x17       x18       x19  \\\n",
       "x1   0.007657  0.002178  0.004642  ...  0.002294 -0.001718  0.006434   \n",
       "x2   0.002167  0.000793 -0.000320  ...  0.008952  0.007413  0.017165   \n",
       "x3   0.002285 -0.000420 -0.004048  ...  0.001640 -0.003407  0.016397   \n",
       "x4  -0.011622 -0.001187  0.003624  ...  0.006318 -0.001546 -0.007427   \n",
       "x5  -0.009791  0.008413 -0.000734  ...  0.003574  0.000143 -0.001876   \n",
       "x6   0.009258  0.006450 -0.003758  ... -0.008373 -0.000469 -0.006034   \n",
       "x7   0.010753 -0.004935  0.005462  ... -0.006655  0.004709  0.005212   \n",
       "x8   1.000000 -0.001296 -0.007731  ...  0.015459 -0.004069  0.001232   \n",
       "x9  -0.001296  1.000000 -0.004187  ...  0.010846  0.002539  0.011296   \n",
       "x10 -0.007731 -0.004187  1.000000  ... -0.004846  0.020812  0.004163   \n",
       "x11 -0.002690 -0.002860  0.002275  ... -0.004807  0.007477  0.001244   \n",
       "x12  0.002353 -0.002922 -0.001261  ...  0.008967 -0.006380 -0.005424   \n",
       "x13 -0.001240 -0.015587  0.012297  ... -0.004475  0.007930  0.003892   \n",
       "x14 -0.010379  0.001803 -0.004478  ... -0.007388  0.012733 -0.006278   \n",
       "x15 -0.004209  0.007869 -0.002250  ... -0.001562  0.005529  0.002118   \n",
       "x16  0.013658  0.004889  0.001921  ... -0.011656 -0.013863  0.005628   \n",
       "x17  0.015459  0.010846 -0.004846  ...  1.000000 -0.004769 -0.006576   \n",
       "x18 -0.004069  0.002539  0.020812  ... -0.004769  1.000000  0.005182   \n",
       "x19  0.001232  0.011296  0.004163  ... -0.006576  0.005182  1.000000   \n",
       "x20  0.000194 -0.006515  0.005138  ...  0.004622  0.005126 -0.002291   \n",
       "x21  0.008315  0.002016  0.000689  ... -0.005790  0.003203 -0.002748   \n",
       "x22  0.002742 -0.007069  0.003840  ... -0.006684 -0.000953 -0.001195   \n",
       "x23 -0.005390  0.009434  0.008389  ... -0.003079  0.006797 -0.000395   \n",
       "x24 -0.002110 -0.007807  0.000248  ...  0.015486 -0.004917 -0.019100   \n",
       "x25 -0.005346 -0.011048 -0.002562  ...  0.008417  0.005964 -0.001050   \n",
       "y    0.003217  0.011117  0.013250  ...  0.007402  0.000558  0.005778   \n",
       "\n",
       "          x20       x21       x22       x23       x24       x25         y  \n",
       "x1   0.002433  0.001746 -0.004724 -0.001768 -0.001951 -0.007909  0.645521  \n",
       "x2  -0.004667  0.009169 -0.005354  0.001802  0.006215 -0.006513  0.059027  \n",
       "x3  -0.002907  0.004583  0.001094  0.002264  0.004520 -0.008032  0.032038  \n",
       "x4   0.001795  0.005536  0.009955  0.003050 -0.013507 -0.003394  0.021911  \n",
       "x5  -0.012364 -0.002799  0.002720 -0.009968 -0.006636  0.006353  0.014382  \n",
       "x6   0.017874  0.012135  0.007652  0.006681  0.007486 -0.001817  0.005985  \n",
       "x7  -0.002142 -0.000945  0.006439 -0.006021 -0.000096  0.002996  0.013571  \n",
       "x8   0.000194  0.008315  0.002742 -0.005390 -0.002110 -0.005346  0.003217  \n",
       "x9  -0.006515  0.002016 -0.007069  0.009434 -0.007807 -0.011048  0.011117  \n",
       "x10  0.005138  0.000689  0.003840  0.008389  0.000248 -0.002562  0.013250  \n",
       "x11 -0.003438  0.002227  0.002139 -0.003227 -0.005717  0.001454  0.003116  \n",
       "x12 -0.008764  0.002121  0.001051 -0.003560 -0.003376 -0.019420  0.010687  \n",
       "x13 -0.000784 -0.007852  0.005686  0.000407  0.001590 -0.002816 -0.000582  \n",
       "x14  0.002711  0.003890  0.003698 -0.006541 -0.008309 -0.003322  0.001930  \n",
       "x15 -0.000983  0.002328 -0.009672  0.003037  0.008244 -0.004658  0.011695  \n",
       "x16 -0.004387 -0.003367 -0.005021 -0.007976 -0.005537  0.003878  0.006626  \n",
       "x17  0.004622 -0.005790 -0.006684 -0.003079  0.015486  0.008417  0.007402  \n",
       "x18  0.005126  0.003203 -0.000953  0.006797 -0.004917  0.005964  0.000558  \n",
       "x19 -0.002291 -0.002748 -0.001195 -0.000395 -0.019100 -0.001050  0.005778  \n",
       "x20  1.000000 -0.017292  0.000594 -0.003775 -0.005262  0.006513  0.005097  \n",
       "x21 -0.017292  1.000000 -0.002123  0.009648 -0.003440 -0.004267  0.009889  \n",
       "x22  0.000594 -0.002123  1.000000 -0.001996  0.005607  0.006673 -0.009640  \n",
       "x23 -0.003775  0.009648 -0.001996  1.000000 -0.004651 -0.003284 -0.000764  \n",
       "x24 -0.005262 -0.003440  0.005607 -0.004651  1.000000 -0.001062  0.003080  \n",
       "x25  0.006513 -0.004267  0.006673 -0.003284 -0.001062  1.000000 -0.006244  \n",
       "y    0.005097  0.009889 -0.009640 -0.000764  0.003080 -0.006244  1.000000  \n",
       "\n",
       "[26 rows x 26 columns]"
      ]
     },
     "execution_count": 11,
     "metadata": {},
     "output_type": "execute_result"
    }
   ],
   "source": [
    "d_train.corr()"
   ]
  },
  {
   "cell_type": "code",
   "execution_count": 12,
   "metadata": {},
   "outputs": [],
   "source": [
    "x=d_train.drop('y',axis=1)\n",
    "y=d_train['y'].copy()\n",
    "\n",
    "x_test=d_test.drop('y',axis=1)\n",
    "y_test=d_test['y'].copy()"
   ]
  },
  {
   "cell_type": "code",
   "execution_count": 13,
   "metadata": {},
   "outputs": [],
   "source": [
    "#x_values=x_data.values\n",
    "#x=np.array(x_values)\n",
    "#for i in range(25):\n",
    "#    x[:,i]=x[:,i]/(x[:,i].max()-x[:,i].min())"
   ]
  },
  {
   "cell_type": "code",
   "execution_count": 14,
   "metadata": {},
   "outputs": [
    {
     "data": {
      "text/plain": [
       "(30000, 25)"
      ]
     },
     "execution_count": 14,
     "metadata": {},
     "output_type": "execute_result"
    }
   ],
   "source": [
    "x.shape"
   ]
  },
  {
   "cell_type": "code",
   "execution_count": 15,
   "metadata": {
    "scrolled": true
   },
   "outputs": [
    {
     "data": {
      "text/html": [
       "<div>\n",
       "<style scoped>\n",
       "    .dataframe tbody tr th:only-of-type {\n",
       "        vertical-align: middle;\n",
       "    }\n",
       "\n",
       "    .dataframe tbody tr th {\n",
       "        vertical-align: top;\n",
       "    }\n",
       "\n",
       "    .dataframe thead th {\n",
       "        text-align: right;\n",
       "    }\n",
       "</style>\n",
       "<table border=\"1\" class=\"dataframe\">\n",
       "  <thead>\n",
       "    <tr style=\"text-align: right;\">\n",
       "      <th></th>\n",
       "      <th>x1</th>\n",
       "      <th>x2</th>\n",
       "      <th>x3</th>\n",
       "      <th>x4</th>\n",
       "      <th>x5</th>\n",
       "      <th>x6</th>\n",
       "      <th>x7</th>\n",
       "      <th>x8</th>\n",
       "      <th>x9</th>\n",
       "      <th>x10</th>\n",
       "      <th>...</th>\n",
       "      <th>x16</th>\n",
       "      <th>x17</th>\n",
       "      <th>x18</th>\n",
       "      <th>x19</th>\n",
       "      <th>x20</th>\n",
       "      <th>x21</th>\n",
       "      <th>x22</th>\n",
       "      <th>x23</th>\n",
       "      <th>x24</th>\n",
       "      <th>x25</th>\n",
       "    </tr>\n",
       "  </thead>\n",
       "  <tbody>\n",
       "    <tr>\n",
       "      <td>0</td>\n",
       "      <td>3.0</td>\n",
       "      <td>-0.183355</td>\n",
       "      <td>-4.634184</td>\n",
       "      <td>1.184842</td>\n",
       "      <td>5.470261</td>\n",
       "      <td>3.672736</td>\n",
       "      <td>-4.030212</td>\n",
       "      <td>2.689942</td>\n",
       "      <td>8.962724</td>\n",
       "      <td>2.484879</td>\n",
       "      <td>...</td>\n",
       "      <td>-6.469738</td>\n",
       "      <td>-15.994611</td>\n",
       "      <td>15.024532</td>\n",
       "      <td>23.204973</td>\n",
       "      <td>2.528437</td>\n",
       "      <td>8.962604</td>\n",
       "      <td>0.266541</td>\n",
       "      <td>-1.383385</td>\n",
       "      <td>-1.029273</td>\n",
       "      <td>1.711146</td>\n",
       "    </tr>\n",
       "    <tr>\n",
       "      <td>1</td>\n",
       "      <td>2.0</td>\n",
       "      <td>1.643093</td>\n",
       "      <td>0.232917</td>\n",
       "      <td>-3.235598</td>\n",
       "      <td>-0.082242</td>\n",
       "      <td>-6.190242</td>\n",
       "      <td>-2.308474</td>\n",
       "      <td>-0.968020</td>\n",
       "      <td>-5.374390</td>\n",
       "      <td>2.460543</td>\n",
       "      <td>...</td>\n",
       "      <td>5.488683</td>\n",
       "      <td>22.711908</td>\n",
       "      <td>45.220479</td>\n",
       "      <td>-0.635627</td>\n",
       "      <td>22.675962</td>\n",
       "      <td>32.937243</td>\n",
       "      <td>-1.082314</td>\n",
       "      <td>0.571426</td>\n",
       "      <td>-0.063689</td>\n",
       "      <td>-3.122653</td>\n",
       "    </tr>\n",
       "    <tr>\n",
       "      <td>2</td>\n",
       "      <td>1.0</td>\n",
       "      <td>0.812938</td>\n",
       "      <td>0.095642</td>\n",
       "      <td>-1.170322</td>\n",
       "      <td>-1.808930</td>\n",
       "      <td>-2.618295</td>\n",
       "      <td>1.613534</td>\n",
       "      <td>-5.186820</td>\n",
       "      <td>-0.011963</td>\n",
       "      <td>3.381312</td>\n",
       "      <td>...</td>\n",
       "      <td>2.264152</td>\n",
       "      <td>-3.333037</td>\n",
       "      <td>-8.586271</td>\n",
       "      <td>-3.326587</td>\n",
       "      <td>5.033094</td>\n",
       "      <td>-5.385510</td>\n",
       "      <td>-1.281024</td>\n",
       "      <td>-0.788055</td>\n",
       "      <td>0.505804</td>\n",
       "      <td>-0.891985</td>\n",
       "    </tr>\n",
       "    <tr>\n",
       "      <td>3</td>\n",
       "      <td>2.0</td>\n",
       "      <td>-0.250723</td>\n",
       "      <td>0.011880</td>\n",
       "      <td>2.086732</td>\n",
       "      <td>-2.476512</td>\n",
       "      <td>-0.265453</td>\n",
       "      <td>4.399695</td>\n",
       "      <td>-0.159362</td>\n",
       "      <td>0.674294</td>\n",
       "      <td>-7.503565</td>\n",
       "      <td>...</td>\n",
       "      <td>10.880357</td>\n",
       "      <td>4.438590</td>\n",
       "      <td>9.183342</td>\n",
       "      <td>7.087640</td>\n",
       "      <td>25.453062</td>\n",
       "      <td>12.087652</td>\n",
       "      <td>-0.613746</td>\n",
       "      <td>0.141558</td>\n",
       "      <td>-0.206084</td>\n",
       "      <td>0.538862</td>\n",
       "    </tr>\n",
       "    <tr>\n",
       "      <td>4</td>\n",
       "      <td>2.0</td>\n",
       "      <td>1.215325</td>\n",
       "      <td>1.675581</td>\n",
       "      <td>2.193322</td>\n",
       "      <td>2.983158</td>\n",
       "      <td>0.007759</td>\n",
       "      <td>2.983193</td>\n",
       "      <td>2.731582</td>\n",
       "      <td>2.418476</td>\n",
       "      <td>-6.947729</td>\n",
       "      <td>...</td>\n",
       "      <td>5.877623</td>\n",
       "      <td>-21.198210</td>\n",
       "      <td>19.839208</td>\n",
       "      <td>9.945454</td>\n",
       "      <td>13.003429</td>\n",
       "      <td>-10.114149</td>\n",
       "      <td>-0.111361</td>\n",
       "      <td>-0.954487</td>\n",
       "      <td>0.825140</td>\n",
       "      <td>1.437519</td>\n",
       "    </tr>\n",
       "    <tr>\n",
       "      <td>...</td>\n",
       "      <td>...</td>\n",
       "      <td>...</td>\n",
       "      <td>...</td>\n",
       "      <td>...</td>\n",
       "      <td>...</td>\n",
       "      <td>...</td>\n",
       "      <td>...</td>\n",
       "      <td>...</td>\n",
       "      <td>...</td>\n",
       "      <td>...</td>\n",
       "      <td>...</td>\n",
       "      <td>...</td>\n",
       "      <td>...</td>\n",
       "      <td>...</td>\n",
       "      <td>...</td>\n",
       "      <td>...</td>\n",
       "      <td>...</td>\n",
       "      <td>...</td>\n",
       "      <td>...</td>\n",
       "      <td>...</td>\n",
       "      <td>...</td>\n",
       "    </tr>\n",
       "    <tr>\n",
       "      <td>29995</td>\n",
       "      <td>1.0</td>\n",
       "      <td>0.342190</td>\n",
       "      <td>0.055188</td>\n",
       "      <td>-0.572283</td>\n",
       "      <td>0.574764</td>\n",
       "      <td>3.855534</td>\n",
       "      <td>6.558000</td>\n",
       "      <td>5.319750</td>\n",
       "      <td>-2.841825</td>\n",
       "      <td>-2.912564</td>\n",
       "      <td>...</td>\n",
       "      <td>6.392150</td>\n",
       "      <td>-3.143389</td>\n",
       "      <td>7.421855</td>\n",
       "      <td>0.749486</td>\n",
       "      <td>9.407745</td>\n",
       "      <td>-16.139067</td>\n",
       "      <td>0.871199</td>\n",
       "      <td>0.270625</td>\n",
       "      <td>0.035268</td>\n",
       "      <td>-0.858278</td>\n",
       "    </tr>\n",
       "    <tr>\n",
       "      <td>29996</td>\n",
       "      <td>1.0</td>\n",
       "      <td>0.438052</td>\n",
       "      <td>-0.064013</td>\n",
       "      <td>1.261939</td>\n",
       "      <td>2.458425</td>\n",
       "      <td>-2.141189</td>\n",
       "      <td>0.812509</td>\n",
       "      <td>0.854281</td>\n",
       "      <td>10.114633</td>\n",
       "      <td>-3.525051</td>\n",
       "      <td>...</td>\n",
       "      <td>-15.205190</td>\n",
       "      <td>-13.992396</td>\n",
       "      <td>18.326917</td>\n",
       "      <td>6.937393</td>\n",
       "      <td>10.878877</td>\n",
       "      <td>-22.235942</td>\n",
       "      <td>0.950296</td>\n",
       "      <td>-0.782184</td>\n",
       "      <td>0.439711</td>\n",
       "      <td>0.246343</td>\n",
       "    </tr>\n",
       "    <tr>\n",
       "      <td>29997</td>\n",
       "      <td>3.0</td>\n",
       "      <td>0.588171</td>\n",
       "      <td>1.798733</td>\n",
       "      <td>-0.660610</td>\n",
       "      <td>-3.502469</td>\n",
       "      <td>4.491251</td>\n",
       "      <td>11.738760</td>\n",
       "      <td>2.148399</td>\n",
       "      <td>12.240018</td>\n",
       "      <td>10.362100</td>\n",
       "      <td>...</td>\n",
       "      <td>-14.147107</td>\n",
       "      <td>13.963867</td>\n",
       "      <td>4.506591</td>\n",
       "      <td>10.880007</td>\n",
       "      <td>3.395453</td>\n",
       "      <td>-15.555963</td>\n",
       "      <td>-1.450757</td>\n",
       "      <td>1.036389</td>\n",
       "      <td>-0.098259</td>\n",
       "      <td>0.791844</td>\n",
       "    </tr>\n",
       "    <tr>\n",
       "      <td>29998</td>\n",
       "      <td>1.0</td>\n",
       "      <td>0.134892</td>\n",
       "      <td>0.111594</td>\n",
       "      <td>-1.338915</td>\n",
       "      <td>0.349295</td>\n",
       "      <td>-2.937067</td>\n",
       "      <td>0.127768</td>\n",
       "      <td>6.326368</td>\n",
       "      <td>3.991437</td>\n",
       "      <td>-3.354036</td>\n",
       "      <td>...</td>\n",
       "      <td>20.031081</td>\n",
       "      <td>11.039819</td>\n",
       "      <td>3.334003</td>\n",
       "      <td>7.794350</td>\n",
       "      <td>-0.123210</td>\n",
       "      <td>-9.375042</td>\n",
       "      <td>0.500927</td>\n",
       "      <td>0.806953</td>\n",
       "      <td>-0.248629</td>\n",
       "      <td>0.310851</td>\n",
       "    </tr>\n",
       "    <tr>\n",
       "      <td>29999</td>\n",
       "      <td>1.0</td>\n",
       "      <td>-0.936571</td>\n",
       "      <td>-0.397513</td>\n",
       "      <td>0.861954</td>\n",
       "      <td>1.481243</td>\n",
       "      <td>-4.381343</td>\n",
       "      <td>4.754328</td>\n",
       "      <td>1.131212</td>\n",
       "      <td>-3.297607</td>\n",
       "      <td>1.941285</td>\n",
       "      <td>...</td>\n",
       "      <td>-8.147352</td>\n",
       "      <td>-1.980757</td>\n",
       "      <td>-2.586916</td>\n",
       "      <td>-8.551545</td>\n",
       "      <td>-16.207698</td>\n",
       "      <td>2.237815</td>\n",
       "      <td>0.476220</td>\n",
       "      <td>-0.350022</td>\n",
       "      <td>0.102257</td>\n",
       "      <td>-0.450464</td>\n",
       "    </tr>\n",
       "  </tbody>\n",
       "</table>\n",
       "<p>30000 rows × 25 columns</p>\n",
       "</div>"
      ],
      "text/plain": [
       "        x1        x2        x3        x4        x5        x6         x7  \\\n",
       "0      3.0 -0.183355 -4.634184  1.184842  5.470261  3.672736  -4.030212   \n",
       "1      2.0  1.643093  0.232917 -3.235598 -0.082242 -6.190242  -2.308474   \n",
       "2      1.0  0.812938  0.095642 -1.170322 -1.808930 -2.618295   1.613534   \n",
       "3      2.0 -0.250723  0.011880  2.086732 -2.476512 -0.265453   4.399695   \n",
       "4      2.0  1.215325  1.675581  2.193322  2.983158  0.007759   2.983193   \n",
       "...    ...       ...       ...       ...       ...       ...        ...   \n",
       "29995  1.0  0.342190  0.055188 -0.572283  0.574764  3.855534   6.558000   \n",
       "29996  1.0  0.438052 -0.064013  1.261939  2.458425 -2.141189   0.812509   \n",
       "29997  3.0  0.588171  1.798733 -0.660610 -3.502469  4.491251  11.738760   \n",
       "29998  1.0  0.134892  0.111594 -1.338915  0.349295 -2.937067   0.127768   \n",
       "29999  1.0 -0.936571 -0.397513  0.861954  1.481243 -4.381343   4.754328   \n",
       "\n",
       "             x8         x9        x10  ...        x16        x17        x18  \\\n",
       "0      2.689942   8.962724   2.484879  ...  -6.469738 -15.994611  15.024532   \n",
       "1     -0.968020  -5.374390   2.460543  ...   5.488683  22.711908  45.220479   \n",
       "2     -5.186820  -0.011963   3.381312  ...   2.264152  -3.333037  -8.586271   \n",
       "3     -0.159362   0.674294  -7.503565  ...  10.880357   4.438590   9.183342   \n",
       "4      2.731582   2.418476  -6.947729  ...   5.877623 -21.198210  19.839208   \n",
       "...         ...        ...        ...  ...        ...        ...        ...   \n",
       "29995  5.319750  -2.841825  -2.912564  ...   6.392150  -3.143389   7.421855   \n",
       "29996  0.854281  10.114633  -3.525051  ... -15.205190 -13.992396  18.326917   \n",
       "29997  2.148399  12.240018  10.362100  ... -14.147107  13.963867   4.506591   \n",
       "29998  6.326368   3.991437  -3.354036  ...  20.031081  11.039819   3.334003   \n",
       "29999  1.131212  -3.297607   1.941285  ...  -8.147352  -1.980757  -2.586916   \n",
       "\n",
       "             x19        x20        x21       x22       x23       x24       x25  \n",
       "0      23.204973   2.528437   8.962604  0.266541 -1.383385 -1.029273  1.711146  \n",
       "1      -0.635627  22.675962  32.937243 -1.082314  0.571426 -0.063689 -3.122653  \n",
       "2      -3.326587   5.033094  -5.385510 -1.281024 -0.788055  0.505804 -0.891985  \n",
       "3       7.087640  25.453062  12.087652 -0.613746  0.141558 -0.206084  0.538862  \n",
       "4       9.945454  13.003429 -10.114149 -0.111361 -0.954487  0.825140  1.437519  \n",
       "...          ...        ...        ...       ...       ...       ...       ...  \n",
       "29995   0.749486   9.407745 -16.139067  0.871199  0.270625  0.035268 -0.858278  \n",
       "29996   6.937393  10.878877 -22.235942  0.950296 -0.782184  0.439711  0.246343  \n",
       "29997  10.880007   3.395453 -15.555963 -1.450757  1.036389 -0.098259  0.791844  \n",
       "29998   7.794350  -0.123210  -9.375042  0.500927  0.806953 -0.248629  0.310851  \n",
       "29999  -8.551545 -16.207698   2.237815  0.476220 -0.350022  0.102257 -0.450464  \n",
       "\n",
       "[30000 rows x 25 columns]"
      ]
     },
     "execution_count": 15,
     "metadata": {},
     "output_type": "execute_result"
    }
   ],
   "source": [
    "x"
   ]
  },
  {
   "cell_type": "markdown",
   "metadata": {},
   "source": [
    "## 3. Plot histograms of all the attributes."
   ]
  },
  {
   "cell_type": "markdown",
   "metadata": {},
   "source": [
    "all attributs means x1 to x25.We can check the each attribute distribution"
   ]
  },
  {
   "cell_type": "code",
   "execution_count": 16,
   "metadata": {},
   "outputs": [
    {
     "data": {
      "image/png": "[encoded data removed]",
      "text/plain": [
       "<Figure size 1080x1080 with 25 Axes>"
      ]
     },
     "metadata": {
      "needs_background": "light"
     },
     "output_type": "display_data"
    }
   ],
   "source": [
    "x.hist(figsize=[15,15])\n",
    "plt.show()"
   ]
  },
  {
   "cell_type": "markdown",
   "metadata": {},
   "source": [
    "## 4. Handle both categorical and numerical attributes. And use pipelines to prepare data for later steps.\n",
    " "
   ]
  },
  {
   "cell_type": "markdown",
   "metadata": {},
   "source": [
    "x1 is the categorical and x2 to x25 are numerical, so we need to check \n",
    "get the dataset which included x1 and other included x2-x25 in order to \n",
    "use pipelines and get the prepared data. This is used as a X_train.\n"
   ]
  },
  {
   "cell_type": "code",
   "execution_count": 17,
   "metadata": {},
   "outputs": [
    {
     "data": {
      "text/plain": [
       "x1     1.85\n",
       "x2     0.05\n",
       "x3     0.16\n",
       "x4     0.26\n",
       "x5     0.33\n",
       "x6     0.47\n",
       "x7     0.54\n",
       "x8     0.65\n",
       "x9     0.77\n",
       "x10    0.86\n",
       "x11    0.85\n",
       "x12    1.08\n",
       "x13    1.16\n",
       "x14    1.19\n",
       "x15    1.27\n",
       "x16    1.46\n",
       "x17    1.61\n",
       "x18    1.64\n",
       "x19    1.74\n",
       "x20    1.91\n",
       "x21    2.12\n",
       "x22   -0.01\n",
       "x23   -0.00\n",
       "x24   -0.01\n",
       "x25   -0.01\n",
       "dtype: float64"
      ]
     },
     "execution_count": 17,
     "metadata": {},
     "output_type": "execute_result"
    }
   ],
   "source": [
    "round(d_train.drop('y', axis=1).mean(), 2)"
   ]
  },
  {
   "cell_type": "code",
   "execution_count": 18,
   "metadata": {},
   "outputs": [
    {
     "data": {
      "text/plain": [
       "x1     1.000000\n",
       "x2     0.042812\n",
       "x4     0.022066\n",
       "x3     0.017001\n",
       "x5     0.012279\n",
       "x6     0.011284\n",
       "x15    0.010383\n",
       "x12    0.009908\n",
       "x16    0.008739\n",
       "x8     0.007657\n",
       "x19    0.006434\n",
       "x10    0.004642\n",
       "x7     0.002843\n",
       "x20    0.002433\n",
       "x17    0.002294\n",
       "x9     0.002178\n",
       "x21    0.001746\n",
       "x13    0.001593\n",
       "x18   -0.001718\n",
       "x23   -0.001768\n",
       "x24   -0.001951\n",
       "x14   -0.003007\n",
       "x22   -0.004724\n",
       "x11   -0.006223\n",
       "x25   -0.007909\n",
       "Name: x1, dtype: float64"
      ]
     },
     "execution_count": 18,
     "metadata": {},
     "output_type": "execute_result"
    }
   ],
   "source": [
    "corr_matrix = x.corr()\n",
    "corr_matrix[\"x1\"].sort_values(ascending=False)"
   ]
  },
  {
   "cell_type": "code",
   "execution_count": 19,
   "metadata": {},
   "outputs": [],
   "source": [
    "\n",
    "from sklearn.preprocessing import OrdinalEncoder\n",
    "from sklearn.preprocessing import OneHotEncoder\n"
   ]
  },
  {
   "cell_type": "code",
   "execution_count": 20,
   "metadata": {},
   "outputs": [],
   "source": [
    "from sklearn.impute import SimpleImputer\n",
    "imputer = SimpleImputer(strategy=\"median\")\n",
    "d_num = x.drop(\"x1\", axis=1)\n",
    "d_cat = x[[\"x1\"]]"
   ]
  },
  {
   "cell_type": "code",
   "execution_count": 21,
   "metadata": {},
   "outputs": [],
   "source": [
    "from sklearn.pipeline import Pipeline\n",
    "from sklearn.preprocessing import StandardScaler\n",
    "num_pipeline = Pipeline([\n",
    "        ('imputer', SimpleImputer(strategy=\"median\")),\n",
    "        ('std_scaler', StandardScaler()),\n",
    "    ])\n",
    "\n",
    "d_num_tr = num_pipeline.fit_transform(d_num)"
   ]
  },
  {
   "cell_type": "code",
   "execution_count": 22,
   "metadata": {},
   "outputs": [
    {
     "data": {
      "text/plain": [
       "array([[-0.29445543, -3.01867991,  0.388479  , ..., -1.38266321,\n",
       "        -1.0167101 ,  1.71340928],\n",
       "       [ 2.01743404,  0.04876503, -1.47656173, ...,  0.57636043,\n",
       "        -0.04946777, -3.10666585],\n",
       "       [ 0.96663571, -0.03775175, -0.60519514, ..., -0.78605085,\n",
       "         0.5210024 , -0.88233162],\n",
       "       ...,\n",
       "       [ 0.68213   ,  1.03560596, -0.39014087, ...,  1.04232486,\n",
       "        -0.08409703,  0.79671719],\n",
       "       [ 0.10837612, -0.02769797, -0.67632665, ...,  0.81239487,\n",
       "        -0.23472567,  0.3170894 ],\n",
       "       [-1.24786564, -0.34855752,  0.25224832, ..., -0.34707399,\n",
       "         0.11676318, -0.44206346]])"
      ]
     },
     "execution_count": 22,
     "metadata": {},
     "output_type": "execute_result"
    }
   ],
   "source": [
    "d_num_tr"
   ]
  },
  {
   "cell_type": "code",
   "execution_count": 23,
   "metadata": {},
   "outputs": [],
   "source": [
    "try:\n",
    "    from sklearn.compose import ColumnTransformer\n",
    "except ImportError:\n",
    "    from future_encoders import ColumnTransformer # Scikit-Learn < 0.20"
   ]
  },
  {
   "cell_type": "code",
   "execution_count": 24,
   "metadata": {},
   "outputs": [],
   "source": [
    "num_attribs = list(d_num)\n",
    "cat_attribs = [\"x1\"]\n",
    "\n",
    "\n",
    "\n",
    "full_pipeline = ColumnTransformer([\n",
    "        (\"num\", num_pipeline, num_attribs),\n",
    "        (\"cat\", OneHotEncoder(), cat_attribs),\n",
    "    ])\n",
    "\n",
    "d_prepared = full_pipeline.fit_transform(d_train)"
   ]
  },
  {
   "cell_type": "code",
   "execution_count": 25,
   "metadata": {},
   "outputs": [
    {
     "data": {
      "text/plain": [
       "array([[-0.29445543, -3.01867991,  0.388479  , ...,  0.        ,\n",
       "         0.        ,  1.        ],\n",
       "       [ 2.01743404,  0.04876503, -1.47656173, ...,  0.        ,\n",
       "         1.        ,  0.        ],\n",
       "       [ 0.96663571, -0.03775175, -0.60519514, ...,  1.        ,\n",
       "         0.        ,  0.        ],\n",
       "       ...,\n",
       "       [ 0.68213   ,  1.03560596, -0.39014087, ...,  0.        ,\n",
       "         0.        ,  1.        ],\n",
       "       [ 0.10837612, -0.02769797, -0.67632665, ...,  1.        ,\n",
       "         0.        ,  0.        ],\n",
       "       [-1.24786564, -0.34855752,  0.25224832, ...,  1.        ,\n",
       "         0.        ,  0.        ]])"
      ]
     },
     "execution_count": 25,
     "metadata": {},
     "output_type": "execute_result"
    }
   ],
   "source": [
    "d_prepared"
   ]
  },
  {
   "cell_type": "code",
   "execution_count": 26,
   "metadata": {},
   "outputs": [
    {
     "data": {
      "text/plain": [
       "(30000, 27)"
      ]
     },
     "execution_count": 26,
     "metadata": {},
     "output_type": "execute_result"
    }
   ],
   "source": [
    "d_prepared.shape"
   ]
  },
  {
   "cell_type": "markdown",
   "metadata": {},
   "source": [
    "## 5.Report the importance of each attribute by using the random forest classifier.\n"
   ]
  },
  {
   "cell_type": "markdown",
   "metadata": {},
   "source": [
    "Set the randomforest clf first, then directly used the \"fearture_importances to get the attribut importance. I also add the attributes' name and sort it. Finally draw the importance-unimportance colorbar in the end"
   ]
  },
  {
   "cell_type": "code",
   "execution_count": 27,
   "metadata": {},
   "outputs": [
    {
     "data": {
      "text/plain": [
       "RandomForestClassifier(bootstrap=True, class_weight=None, criterion='gini',\n",
       "                       max_depth=None, max_features='auto', max_leaf_nodes=None,\n",
       "                       min_impurity_decrease=0.0, min_impurity_split=None,\n",
       "                       min_samples_leaf=1, min_samples_split=2,\n",
       "                       min_weight_fraction_leaf=0.0, n_estimators=10,\n",
       "                       n_jobs=None, oob_score=False, random_state=42, verbose=0,\n",
       "                       warm_start=False)"
      ]
     },
     "execution_count": 27,
     "metadata": {},
     "output_type": "execute_result"
    }
   ],
   "source": [
    "from sklearn.ensemble import RandomForestClassifier\n",
    "rnd_clf = RandomForestClassifier(n_estimators=10, random_state=42)\n",
    "rnd_clf.fit(d_prepared,y)"
   ]
  },
  {
   "cell_type": "code",
   "execution_count": 28,
   "metadata": {},
   "outputs": [
    {
     "data": {
      "text/plain": [
       "0     0.066220\n",
       "1     0.047476\n",
       "2     0.040552\n",
       "3     0.037200\n",
       "4     0.027759\n",
       "5     0.018359\n",
       "6     0.030295\n",
       "7     0.026962\n",
       "8     0.027007\n",
       "9     0.025458\n",
       "10    0.017877\n",
       "11    0.033973\n",
       "12    0.022143\n",
       "13    0.019162\n",
       "14    0.027095\n",
       "15    0.016163\n",
       "16    0.024196\n",
       "17    0.037310\n",
       "18    0.021922\n",
       "19    0.044110\n",
       "20    0.005925\n",
       "21    0.006262\n",
       "22    0.006419\n",
       "23    0.006729\n",
       "24    0.187427\n",
       "25    0.085603\n",
       "26    0.090393\n",
       "dtype: float64"
      ]
     },
     "execution_count": 28,
     "metadata": {},
     "output_type": "execute_result"
    }
   ],
   "source": [
    "import pandas as pd\n",
    "feature_imp = pd.Series(rnd_clf.feature_importances_)\n",
    "feature_imp"
   ]
  },
  {
   "cell_type": "code",
   "execution_count": 29,
   "metadata": {},
   "outputs": [
    {
     "data": {
      "text/plain": [
       "[(0.18742690113642227, 1.0),\n",
       " (0.09039315666094627, 3.0),\n",
       " (0.08560323527464288, 2.0),\n",
       " (0.06622047932432193, 'x2'),\n",
       " (0.04747636540348084, 'x3'),\n",
       " (0.04411010908833692, 'x21'),\n",
       " (0.04055176616522907, 'x4'),\n",
       " (0.03730984101355449, 'x19'),\n",
       " (0.037200425421717545, 'x5'),\n",
       " (0.03397301666662274, 'x13'),\n",
       " (0.030295461947032025, 'x8'),\n",
       " (0.02775854292128737, 'x6'),\n",
       " (0.027094925426229453, 'x16'),\n",
       " (0.027006999668344522, 'x10'),\n",
       " (0.02696232554863017, 'x9'),\n",
       " (0.02545842335514964, 'x11'),\n",
       " (0.024195740302038908, 'x18'),\n",
       " (0.022143483034802895, 'x14'),\n",
       " (0.021921571718092923, 'x20'),\n",
       " (0.019162267894400065, 'x15'),\n",
       " (0.01835911734450126, 'x7'),\n",
       " (0.01787714144457945, 'x12'),\n",
       " (0.016162752280428988, 'x17'),\n",
       " (0.006729344605714366, 'x25'),\n",
       " (0.006419367028901675, 'x24'),\n",
       " (0.006261745957182872, 'x23'),\n",
       " (0.005925493367408473, 'x22')]"
      ]
     },
     "execution_count": 29,
     "metadata": {},
     "output_type": "execute_result"
    }
   ],
   "source": [
    "cat_encoder = full_pipeline.named_transformers_[\"cat\"]\n",
    "cat_one_hot_attribs = list(cat_encoder.categories_[0])\n",
    "attributes = num_attribs +cat_one_hot_attribs\n",
    "sorted(zip(feature_imp, attributes), reverse=True)"
   ]
  },
  {
   "cell_type": "code",
   "execution_count": 30,
   "metadata": {},
   "outputs": [
    {
     "data": {
      "image/png": "[encoded data removed]",
      "text/plain": [
       "<Figure size 432x288 with 2 Axes>"
      ]
     },
     "metadata": {
      "needs_background": "light"
     },
     "output_type": "display_data"
    }
   ],
   "source": [
    "def plot_digit(data):\n",
    "    image = data.reshape(27,1)\n",
    "    plt.imshow(image, cmap = mpl.cm.hot,\n",
    "               interpolation=\"nearest\")\n",
    "    plt.axis(\"off\")\n",
    "plot_digit(rnd_clf.feature_importances_)\n",
    "\n",
    "bar = plt.colorbar(ticks=[rnd_clf.feature_importances_.min(), rnd_clf.feature_importances_.max()])\n",
    "bar.ax.set_yticklabels(['Not important', 'Very important'])\n",
    "\n",
    "plt.show()"
   ]
  },
  {
   "cell_type": "markdown",
   "metadata": {},
   "source": [
    "## 6. Train 3 different promising classifiers in terms of accuracy, and use these classifiers to obtain a soft-voting classifier.\n",
    "### - Report the accuracy of each of these classifiers. 1\n",
    "### - Use 3-fold cross-validation for this step."
   ]
  },
  {
   "cell_type": "markdown",
   "metadata": {},
   "source": [
    "This part I tried many classifer and finaly I choose those 3 clfs.Bcause the accuracy score are high and similar. For the voting classifer, set it to soft in order to get the percentage.\n",
    "Finally i post the accuracy score together and we can clearly find that the svm clf has the highest score."
   ]
  },
  {
   "cell_type": "code",
   "execution_count": 31,
   "metadata": {},
   "outputs": [],
   "source": [
    "from sklearn.ensemble import ExtraTreesClassifier\n",
    "from sklearn.neural_network import MLPClassifier\n",
    "from sklearn.svm import SVC\n",
    "from sklearn.neighbors import KNeighborsClassifier\n",
    "#from sklearn.linear_model import SGDClassifier\n",
    "\n",
    "\n",
    "ext_clf=ExtraTreesClassifier(n_estimators=10, random_state=42)\n",
    "mlp_clf = MLPClassifier(random_state=42)\n",
    "svm_clf = SVC(gamma=\"auto\", random_state=42,probability = True)"
   ]
  },
  {
   "cell_type": "code",
   "execution_count": 32,
   "metadata": {},
   "outputs": [
    {
     "name": "stdout",
     "output_type": "stream",
     "text": [
      "Training the ExtraTreesClassifier(bootstrap=False, class_weight=None, criterion='gini',\n",
      "                     max_depth=None, max_features='auto', max_leaf_nodes=None,\n",
      "                     min_impurity_decrease=0.0, min_impurity_split=None,\n",
      "                     min_samples_leaf=1, min_samples_split=2,\n",
      "                     min_weight_fraction_leaf=0.0, n_estimators=10, n_jobs=None,\n",
      "                     oob_score=False, random_state=42, verbose=0,\n",
      "                     warm_start=False)\n",
      "Training the MLPClassifier(activation='relu', alpha=0.0001, batch_size='auto', beta_1=0.9,\n",
      "              beta_2=0.999, early_stopping=False, epsilon=1e-08,\n",
      "              hidden_layer_sizes=(100,), learning_rate='constant',\n",
      "              learning_rate_init=0.001, max_iter=200, momentum=0.9,\n",
      "              n_iter_no_change=10, nesterovs_momentum=True, power_t=0.5,\n",
      "              random_state=42, shuffle=True, solver='adam', tol=0.0001,\n",
      "              validation_fraction=0.1, verbose=False, warm_start=False)\n",
      "Training the SVC(C=1.0, cache_size=200, class_weight=None, coef0=0.0,\n",
      "    decision_function_shape='ovr', degree=3, gamma='auto', kernel='rbf',\n",
      "    max_iter=-1, probability=True, random_state=42, shrinking=True, tol=0.001,\n",
      "    verbose=False)\n"
     ]
    }
   ],
   "source": [
    "estimators = [ext_clf, mlp_clf,svm_clf]\n",
    "for estimator in estimators:\n",
    "    print(\"Training the\", estimator)\n",
    "    estimator.fit(d_prepared,y)"
   ]
  },
  {
   "cell_type": "code",
   "execution_count": 33,
   "metadata": {},
   "outputs": [],
   "source": [
    "from sklearn.ensemble import VotingClassifier\n",
    "from sklearn.svm import SVC\n",
    "named_estimators = [\n",
    "\n",
    "    (\"extra_trees_clf\", ext_clf),\n",
    "    (\"mlp_clf\", mlp_clf),\n",
    "    (\"svm_clf\", svm_clf),\n",
    "    \n",
    "]\n",
    "\n"
   ]
  },
  {
   "cell_type": "code",
   "execution_count": 34,
   "metadata": {},
   "outputs": [],
   "source": [
    "voting_clf = VotingClassifier(named_estimators)"
   ]
  },
  {
   "cell_type": "code",
   "execution_count": 35,
   "metadata": {},
   "outputs": [
    {
     "data": {
      "text/plain": [
       "VotingClassifier(estimators=[('extra_trees_clf',\n",
       "                              ExtraTreesClassifier(bootstrap=False,\n",
       "                                                   class_weight=None,\n",
       "                                                   criterion='gini',\n",
       "                                                   max_depth=None,\n",
       "                                                   max_features='auto',\n",
       "                                                   max_leaf_nodes=None,\n",
       "                                                   min_impurity_decrease=0.0,\n",
       "                                                   min_impurity_split=None,\n",
       "                                                   min_samples_leaf=1,\n",
       "                                                   min_samples_split=2,\n",
       "                                                   min_weight_fraction_leaf=0.0,\n",
       "                                                   n_estimators=10, n_jobs=None,\n",
       "                                                   oob_score=False,\n",
       "                                                   random_state=...\n",
       "                                            shuffle=True, solver='adam',\n",
       "                                            tol=0.0001, validation_fraction=0.1,\n",
       "                                            verbose=False, warm_start=False)),\n",
       "                             ('svm_clf',\n",
       "                              SVC(C=1.0, cache_size=200, class_weight=None,\n",
       "                                  coef0=0.0, decision_function_shape='ovr',\n",
       "                                  degree=3, gamma='auto', kernel='rbf',\n",
       "                                  max_iter=-1, probability=True,\n",
       "                                  random_state=42, shrinking=True, tol=0.001,\n",
       "                                  verbose=False))],\n",
       "                 flatten_transform=True, n_jobs=None, voting='hard',\n",
       "                 weights=None)"
      ]
     },
     "execution_count": 35,
     "metadata": {},
     "output_type": "execute_result"
    }
   ],
   "source": [
    "voting_clf.fit(d_prepared,y)"
   ]
  },
  {
   "cell_type": "code",
   "execution_count": 36,
   "metadata": {},
   "outputs": [],
   "source": [
    "\n",
    "voting_clf.voting = \"soft\""
   ]
  },
  {
   "cell_type": "code",
   "execution_count": 38,
   "metadata": {},
   "outputs": [],
   "source": [
    "from sklearn.model_selection import cross_val_score"
   ]
  },
  {
   "cell_type": "markdown",
   "metadata": {},
   "source": [
    "Report the accuracy score of each classifiers"
   ]
  },
  {
   "cell_type": "code",
   "execution_count": 39,
   "metadata": {},
   "outputs": [
    {
     "name": "stdout",
     "output_type": "stream",
     "text": [
      "ext_clf: [0.9548 0.9572 0.9546]\n",
      "mlp_clf: [0.9815 0.9845 0.9853]\n",
      "svm_clf: [0.9868 0.9878 0.9881]\n",
      "soft_voting_clf: [0.9867 0.9871 0.9873]\n"
     ]
    }
   ],
   "source": [
    "print('ext_clf:', cross_val_score(ext_clf, d_prepared, y, cv=3, scoring=\"accuracy\"))\n",
    "print('mlp_clf:', cross_val_score(mlp_clf, d_prepared, y, cv=3, scoring=\"accuracy\"))\n",
    "print('svm_clf:', cross_val_score(svm_clf, d_prepared, y, cv=3, scoring=\"accuracy\"))\n",
    "print('soft_voting_clf:', cross_val_score(voting_clf, d_prepared, y, cv=3, scoring=\"accuracy\"))"
   ]
  },
  {
   "cell_type": "markdown",
   "metadata": {},
   "source": [
    "We can see the svm_clf have the greatest accuracy score"
   ]
  },
  {
   "cell_type": "markdown",
   "metadata": {},
   "source": [
    "## 7. Explore the above 4 classifiers on the recall and precision trade-off and find a classifier that suits our purpose the most.\n",
    "### • Plot the ROC curves for these classifiers.\n",
    "### • Calculate the ROC AUC scores for these classifiers.\n",
    "### • Plot the precision versus recall for these classifiers.\n",
    "### • Find out the precision for each classifier when the recall is 1, and use these values to choose the classifier for our purpose.\n",
    " "
   ]
  },
  {
   "cell_type": "markdown",
   "metadata": {},
   "source": [
    "The point of this part is to correctly set the function of plot roc curve and plot precision vs recall.\n",
    "\n",
    "All the plots seems very great but the highest score of roc_auc_score is SVM_clf and we can find that the precision of extracttree and randome forest are same because they are same types.\n",
    "And svm_clf have the highest precision which already larger than 69%. So I chooes this classifier which suits the purpose most"
   ]
  },
  {
   "cell_type": "code",
   "execution_count": 40,
   "metadata": {},
   "outputs": [],
   "source": [
    "from sklearn.metrics import roc_curve\n",
    "from sklearn.model_selection import cross_val_predict\n",
    "from sklearn.metrics import precision_recall_curve\n",
    "from sklearn.metrics import precision_score, recall_score\n",
    "\n",
    "from sklearn.metrics import roc_auc_score\n",
    "def plot_roc_curve(fpr, tpr, label=None): \n",
    "    plt.plot(fpr, tpr, linewidth=2, label=label) \n",
    "    plt.plot([0, 1], [0, 1], 'k--') \n",
    "    plt.axis([0, 1, 0, 1]) \n",
    "    plt.xlabel('False Positive Rate') \n",
    "    plt.ylabel('True Positive Rate') \n",
    "def plot_precision_vs_recall(precisions, recalls):\n",
    "    plt.plot(recalls, precisions, \"b-\", linewidth=2)\n",
    "    plt.xlabel(\"Recall\", fontsize=16)\n",
    "    plt.ylabel(\"Precision\", fontsize=16)\n",
    "    plt.axis([0, 1, 0, 1])\n",
    "\n",
    "\n",
    "    "
   ]
  },
  {
   "cell_type": "markdown",
   "metadata": {},
   "source": [
    "## RandomForestClassifier"
   ]
  },
  {
   "cell_type": "code",
   "execution_count": 41,
   "metadata": {},
   "outputs": [
    {
     "name": "stdout",
     "output_type": "stream",
     "text": [
      "ROC curve plot\n"
     ]
    },
    {
     "data": {
      "image/png": "[encoded data removed]",
      "text/plain": [
       "<Figure size 432x288 with 1 Axes>"
      ]
     },
     "metadata": {
      "needs_background": "light"
     },
     "output_type": "display_data"
    }
   ],
   "source": [
    "\n",
    "rnd_clf_scores = cross_val_predict(rnd_clf, d_prepared, y, cv=3, method = 'predict_proba')[:,-1]\n",
    "fpr, tpr, thresholds = roc_curve(y, rnd_clf_scores)\n",
    "plot_roc_curve(fpr, tpr) \n",
    "print(\"ROC curve plot\")\n",
    "plt.show()"
   ]
  },
  {
   "cell_type": "code",
   "execution_count": 42,
   "metadata": {},
   "outputs": [
    {
     "data": {
      "text/plain": [
       "0.989277541206203"
      ]
     },
     "execution_count": 42,
     "metadata": {},
     "output_type": "execute_result"
    }
   ],
   "source": [
    "roc_auc_score(y, rnd_clf_scores)"
   ]
  },
  {
   "cell_type": "code",
   "execution_count": 45,
   "metadata": {},
   "outputs": [
    {
     "name": "stdout",
     "output_type": "stream",
     "text": [
      "precision_vs_recall_plot\n"
     ]
    },
    {
     "data": {
      "image/png": "[encoded data removed]",
      "text/plain": [
       "<Figure size 576x432 with 1 Axes>"
      ]
     },
     "metadata": {
      "needs_background": "light"
     },
     "output_type": "display_data"
    }
   ],
   "source": [
    "precisions, recalls,thresholds = precision_recall_curve(y, rnd_clf_scores)\n",
    "plt.figure(figsize=(8, 6))\n",
    "plot_precision_vs_recall(precisions, recalls)\n",
    "print(\"precision_vs_recall_plot\")\n",
    "plt.show()"
   ]
  },
  {
   "cell_type": "code",
   "execution_count": 46,
   "metadata": {},
   "outputs": [
    {
     "name": "stdout",
     "output_type": "stream",
     "text": [
      "Precision:  0.5007\n"
     ]
    }
   ],
   "source": [
    "thresholds = thresholds[np.argmax(recalls >= 1)]\n",
    "y_pred_1 = (rnd_clf_scores >= thresholds)\n",
    "print('Precision: ', precision_score(y, y_pred_1))"
   ]
  },
  {
   "cell_type": "markdown",
   "metadata": {},
   "source": [
    "##  ExtraTreesClassifier"
   ]
  },
  {
   "cell_type": "code",
   "execution_count": 47,
   "metadata": {},
   "outputs": [
    {
     "name": "stdout",
     "output_type": "stream",
     "text": [
      "ROC curve plot\n"
     ]
    },
    {
     "data": {
      "image/png": "[encoded data removed]",
      "text/plain": [
       "<Figure size 432x288 with 1 Axes>"
      ]
     },
     "metadata": {
      "needs_background": "light"
     },
     "output_type": "display_data"
    }
   ],
   "source": [
    "ext_clf_scores = cross_val_predict(ext_clf, d_prepared, y, cv=3, method = 'predict_proba')[:,-1]\n",
    "fpr, tpr, thresholds = roc_curve(y, ext_clf_scores)\n",
    "plot_roc_curve(fpr, tpr)\n",
    "print(\"ROC curve plot\")\n",
    "plt.show()"
   ]
  },
  {
   "cell_type": "code",
   "execution_count": 48,
   "metadata": {},
   "outputs": [
    {
     "data": {
      "text/plain": [
       "0.9907411374081848"
      ]
     },
     "execution_count": 48,
     "metadata": {},
     "output_type": "execute_result"
    }
   ],
   "source": [
    "roc_auc_score(y, ext_clf_scores)"
   ]
  },
  {
   "cell_type": "code",
   "execution_count": 50,
   "metadata": {},
   "outputs": [
    {
     "name": "stdout",
     "output_type": "stream",
     "text": [
      "precision_vs_recall_plot\n"
     ]
    },
    {
     "data": {
      "image/png": "[encoded data removed]",
      "text/plain": [
       "<Figure size 576x432 with 1 Axes>"
      ]
     },
     "metadata": {
      "needs_background": "light"
     },
     "output_type": "display_data"
    }
   ],
   "source": [
    "precisions, recalls,thresholds = precision_recall_curve(y, ext_clf_scores)\n",
    "plt.figure(figsize=(8, 6))\n",
    "plot_precision_vs_recall(precisions, recalls)\n",
    "print(\"precision_vs_recall_plot\")\n",
    "plt.show()"
   ]
  },
  {
   "cell_type": "code",
   "execution_count": 51,
   "metadata": {},
   "outputs": [
    {
     "name": "stdout",
     "output_type": "stream",
     "text": [
      "Precision:  0.5007\n"
     ]
    }
   ],
   "source": [
    "thresholds2 = thresholds[np.argmax(recalls >= 1)]\n",
    "y_pred_2 = (ext_clf_scores >= thresholds2)\n",
    "print('Precision: ', precision_score(y, y_pred_2))"
   ]
  },
  {
   "cell_type": "markdown",
   "metadata": {},
   "source": [
    "## MLPClassifier"
   ]
  },
  {
   "cell_type": "code",
   "execution_count": 105,
   "metadata": {},
   "outputs": [
    {
     "name": "stdout",
     "output_type": "stream",
     "text": [
      "ROC curve plot\n"
     ]
    },
    {
     "data": {
      "image/png": "[encoded data removed]",
      "text/plain": [
       "<Figure size 432x288 with 1 Axes>"
      ]
     },
     "metadata": {
      "needs_background": "light"
     },
     "output_type": "display_data"
    }
   ],
   "source": [
    "mlp_clf_scores = cross_val_predict(mlp_clf, d_prepared, y, cv=3, method = 'predict_proba')[:,-1]\n",
    "fpr, tpr, thresholds = roc_curve(y, mlp_clf_scores)\n",
    "plot_roc_curve(fpr, tpr) \n",
    "print(\"ROC curve plot\")\n",
    "plt.show()"
   ]
  },
  {
   "cell_type": "code",
   "execution_count": 106,
   "metadata": {},
   "outputs": [
    {
     "data": {
      "text/plain": [
       "0.9984272102506655"
      ]
     },
     "execution_count": 106,
     "metadata": {},
     "output_type": "execute_result"
    }
   ],
   "source": [
    "roc_auc_score(y, mlp_clf_scores)"
   ]
  },
  {
   "cell_type": "code",
   "execution_count": 107,
   "metadata": {},
   "outputs": [
    {
     "name": "stdout",
     "output_type": "stream",
     "text": [
      "precision_vs_recall_plot\n"
     ]
    },
    {
     "data": {
      "image/png": "[encoded data removed]",
      "text/plain": [
       "<Figure size 576x432 with 1 Axes>"
      ]
     },
     "metadata": {
      "needs_background": "light"
     },
     "output_type": "display_data"
    }
   ],
   "source": [
    "precisions, recalls,thresholds = precision_recall_curve(y, mlp_clf_scores)\n",
    "plt.figure(figsize=(8, 6))\n",
    "plot_precision_vs_recall(precisions, recalls)\n",
    "print(\"precision_vs_recall_plot\")\n",
    "plt.show()"
   ]
  },
  {
   "cell_type": "code",
   "execution_count": 109,
   "metadata": {},
   "outputs": [
    {
     "name": "stdout",
     "output_type": "stream",
     "text": [
      "Precision:  0.63615957987464\n"
     ]
    }
   ],
   "source": [
    "thresholds3 = thresholds[np.argmax(recalls >= 1)]\n",
    "y_pred_3 = (mlp_clf_scores >= thresholds3)\n",
    "print('Precision: ', precision_score(y, y_pred_3))"
   ]
  },
  {
   "cell_type": "markdown",
   "metadata": {},
   "source": [
    "## SVM"
   ]
  },
  {
   "cell_type": "code",
   "execution_count": 57,
   "metadata": {},
   "outputs": [
    {
     "name": "stdout",
     "output_type": "stream",
     "text": [
      "ROC curve plot\n"
     ]
    },
    {
     "data": {
      "image/png": "[encoded data removed]",
      "text/plain": [
       "<Figure size 432x288 with 1 Axes>"
      ]
     },
     "metadata": {
      "needs_background": "light"
     },
     "output_type": "display_data"
    }
   ],
   "source": [
    "svm_clf_scores = cross_val_predict(svm_clf, d_prepared, y, cv=3,method=\"decision_function\")\n",
    "fpr, tpr, thresholds = roc_curve(y, svm_clf_scores)\n",
    "plot_roc_curve(fpr, tpr) \n",
    "print(\"ROC curve plot\")\n",
    "plt.show()"
   ]
  },
  {
   "cell_type": "code",
   "execution_count": 58,
   "metadata": {},
   "outputs": [
    {
     "data": {
      "text/plain": [
       "0.9991277849571252"
      ]
     },
     "execution_count": 58,
     "metadata": {},
     "output_type": "execute_result"
    }
   ],
   "source": [
    "roc_auc_score(y, svm_clf_scores)"
   ]
  },
  {
   "cell_type": "code",
   "execution_count": 59,
   "metadata": {},
   "outputs": [
    {
     "name": "stdout",
     "output_type": "stream",
     "text": [
      "precision_vs_recall_plot\n"
     ]
    },
    {
     "data": {
      "image/png": "[encoded data removed]",
      "text/plain": [
       "<Figure size 576x432 with 1 Axes>"
      ]
     },
     "metadata": {
      "needs_background": "light"
     },
     "output_type": "display_data"
    }
   ],
   "source": [
    "precisions, recalls,thresholds = precision_recall_curve(y, svm_clf_scores)\n",
    "plt.figure(figsize=(8, 6))\n",
    "plot_precision_vs_recall(precisions, recalls)\n",
    "print(\"precision_vs_recall_plot\")\n",
    "plt.show()"
   ]
  },
  {
   "cell_type": "code",
   "execution_count": 61,
   "metadata": {},
   "outputs": [
    {
     "name": "stdout",
     "output_type": "stream",
     "text": [
      "Precision:  0.6925630503942091\n"
     ]
    }
   ],
   "source": [
    "thresholds4= thresholds[np.argmax(recalls >= 1)]\n",
    "y_pred_4 = (svm_clf_scores >= thresholds4)\n",
    "print('Precision: ', precision_score(y, y_pred_4))"
   ]
  },
  {
   "cell_type": "markdown",
   "metadata": {},
   "source": [
    "## Soft-voting-classifer "
   ]
  },
  {
   "cell_type": "code",
   "execution_count": 62,
   "metadata": {},
   "outputs": [
    {
     "name": "stdout",
     "output_type": "stream",
     "text": [
      "ROC curve plot\n"
     ]
    },
    {
     "data": {
      "image/png": "[encoded data removed]",
      "text/plain": [
       "<Figure size 432x288 with 1 Axes>"
      ]
     },
     "metadata": {
      "needs_background": "light"
     },
     "output_type": "display_data"
    }
   ],
   "source": [
    "voting_clf_scores = cross_val_predict(voting_clf, d_prepared, y, cv=3, method = 'predict_proba')[:,-1]\n",
    "fpr, tpr, thresholds = roc_curve(y, voting_clf_scores)\n",
    "plot_roc_curve(fpr, tpr) \n",
    "print(\"ROC curve plot\")\n",
    "plt.show()"
   ]
  },
  {
   "cell_type": "code",
   "execution_count": 63,
   "metadata": {},
   "outputs": [
    {
     "data": {
      "text/plain": [
       "0.9985855527832389"
      ]
     },
     "execution_count": 63,
     "metadata": {},
     "output_type": "execute_result"
    }
   ],
   "source": [
    "roc_auc_score(y, voting_clf_scores)"
   ]
  },
  {
   "cell_type": "code",
   "execution_count": 65,
   "metadata": {},
   "outputs": [
    {
     "name": "stdout",
     "output_type": "stream",
     "text": [
      "precision_vs_recall_plot\n"
     ]
    },
    {
     "data": {
      "image/png": "[encoded data removed]",
      "text/plain": [
       "<Figure size 576x432 with 1 Axes>"
      ]
     },
     "metadata": {
      "needs_background": "light"
     },
     "output_type": "display_data"
    }
   ],
   "source": [
    "precisions, recalls,thresholds = precision_recall_curve(y, voting_clf_scores)\n",
    "plt.figure(figsize=(8, 6))\n",
    "plot_precision_vs_recall(precisions, recalls)\n",
    "print(\"precision_vs_recall_plot\")\n",
    "plt.show()"
   ]
  },
  {
   "cell_type": "code",
   "execution_count": 66,
   "metadata": {},
   "outputs": [
    {
     "name": "stdout",
     "output_type": "stream",
     "text": [
      "Precision:  0.6639409476661952\n"
     ]
    }
   ],
   "source": [
    "thresholds5= thresholds[np.argmax(recalls >= 1)]\n",
    "y_pred_5 = (voting_clf_scores >= thresholds5)\n",
    "\n",
    "print('Precision: ', precision_score(y, y_pred_5))"
   ]
  },
  {
   "cell_type": "code",
   "execution_count": 111,
   "metadata": {},
   "outputs": [
    {
     "name": "stdout",
     "output_type": "stream",
     "text": [
      "rnd clf precision: 0.5007\n",
      "ext clf precision: 0.5007\n",
      "mlp clf precision: 0.63615957987464\n",
      "svm clf precision: 0.6925630503942091\n",
      "soft voting clf precision: 0.6639409476661952\n"
     ]
    }
   ],
   "source": [
    "print(\"rnd clf precision:\",precision_score(y, y_pred_1))\n",
    "print(\"ext clf precision:\",precision_score(y, y_pred_2))\n",
    "print(\"mlp clf precision:\",precision_score(y, y_pred_3))\n",
    "print(\"svm clf precision:\",precision_score(y, y_pred_4))\n",
    "print(\"soft voting clf precision:\",precision_score(y, y_pred_5))"
   ]
  },
  {
   "cell_type": "markdown",
   "metadata": {},
   "source": [
    "We can see that the svm clf's precision is the best"
   ]
  },
  {
   "cell_type": "markdown",
   "metadata": {},
   "source": [
    "## 8. Fine-tune the hyperparameters for the chosen classifier in terms of recall."
   ]
  },
  {
   "cell_type": "markdown",
   "metadata": {},
   "source": [
    "I run this gridsearch for 4 hours. When I got the result, I removed some parameter of gridsearch that will run faster.\n",
    "Then we can get the best parameter and best score of grid search"
   ]
  },
  {
   "cell_type": "code",
   "execution_count": 41,
   "metadata": {},
   "outputs": [
    {
     "data": {
      "text/plain": [
       "dict_keys(['activation', 'alpha', 'batch_size', 'beta_1', 'beta_2', 'early_stopping', 'epsilon', 'hidden_layer_sizes', 'learning_rate', 'learning_rate_init', 'max_iter', 'momentum', 'n_iter_no_change', 'nesterovs_momentum', 'power_t', 'random_state', 'shuffle', 'solver', 'tol', 'validation_fraction', 'verbose', 'warm_start'])"
      ]
     },
     "execution_count": 41,
     "metadata": {},
     "output_type": "execute_result"
    }
   ],
   "source": [
    "mlp_clf.get_params().keys()"
   ]
  },
  {
   "cell_type": "code",
   "execution_count": 84,
   "metadata": {},
   "outputs": [
    {
     "name": "stdout",
     "output_type": "stream",
     "text": [
      "Fitting 3 folds for each of 4 candidates, totalling 12 fits\n",
      "[CV] C=1, gamma=0.1, kernel=rbf ......................................\n"
     ]
    },
    {
     "name": "stderr",
     "output_type": "stream",
     "text": [
      "[Parallel(n_jobs=1)]: Using backend SequentialBackend with 1 concurrent workers.\n"
     ]
    },
    {
     "name": "stdout",
     "output_type": "stream",
     "text": [
      "[CV] .......... C=1, gamma=0.1, kernel=rbf, score=0.986, total=  24.8s\n",
      "[CV] C=1, gamma=0.1, kernel=rbf ......................................\n"
     ]
    },
    {
     "name": "stderr",
     "output_type": "stream",
     "text": [
      "[Parallel(n_jobs=1)]: Done   1 out of   1 | elapsed:   24.8s remaining:    0.0s\n"
     ]
    },
    {
     "name": "stdout",
     "output_type": "stream",
     "text": [
      "[CV] .......... C=1, gamma=0.1, kernel=rbf, score=0.989, total=  26.2s\n",
      "[CV] C=1, gamma=0.1, kernel=rbf ......................................\n"
     ]
    },
    {
     "name": "stderr",
     "output_type": "stream",
     "text": [
      "[Parallel(n_jobs=1)]: Done   2 out of   2 | elapsed:   51.0s remaining:    0.0s\n"
     ]
    },
    {
     "name": "stdout",
     "output_type": "stream",
     "text": [
      "[CV] .......... C=1, gamma=0.1, kernel=rbf, score=0.989, total=  28.0s\n",
      "[CV] C=1, gamma=0.01, kernel=rbf .....................................\n",
      "[CV] ......... C=1, gamma=0.01, kernel=rbf, score=0.985, total=  27.4s\n",
      "[CV] C=1, gamma=0.01, kernel=rbf .....................................\n",
      "[CV] ......... C=1, gamma=0.01, kernel=rbf, score=0.987, total=  29.3s\n",
      "[CV] C=1, gamma=0.01, kernel=rbf .....................................\n",
      "[CV] ......... C=1, gamma=0.01, kernel=rbf, score=0.987, total=  25.8s\n",
      "[CV] C=10, gamma=0.1, kernel=rbf .....................................\n",
      "[CV] ......... C=10, gamma=0.1, kernel=rbf, score=0.986, total=  35.1s\n",
      "[CV] C=10, gamma=0.1, kernel=rbf .....................................\n",
      "[CV] ......... C=10, gamma=0.1, kernel=rbf, score=0.987, total=  32.5s\n",
      "[CV] C=10, gamma=0.1, kernel=rbf .....................................\n",
      "[CV] ......... C=10, gamma=0.1, kernel=rbf, score=0.988, total=  34.2s\n",
      "[CV] C=10, gamma=0.01, kernel=rbf ....................................\n",
      "[CV] ........ C=10, gamma=0.01, kernel=rbf, score=0.987, total=  15.2s\n",
      "[CV] C=10, gamma=0.01, kernel=rbf ....................................\n",
      "[CV] ........ C=10, gamma=0.01, kernel=rbf, score=0.989, total=  15.2s\n",
      "[CV] C=10, gamma=0.01, kernel=rbf ....................................\n",
      "[CV] ........ C=10, gamma=0.01, kernel=rbf, score=0.988, total=  15.5s\n"
     ]
    },
    {
     "name": "stderr",
     "output_type": "stream",
     "text": [
      "[Parallel(n_jobs=1)]: Done  12 out of  12 | elapsed:  5.2min finished\n"
     ]
    },
    {
     "data": {
      "text/plain": [
       "GridSearchCV(cv='warn', error_score='raise-deprecating',\n",
       "             estimator=SVC(C=1.0, cache_size=200, class_weight=None, coef0=0.0,\n",
       "                           decision_function_shape='ovr', degree=3,\n",
       "                           gamma='auto', kernel='rbf', max_iter=-1,\n",
       "                           probability=True, random_state=42, shrinking=True,\n",
       "                           tol=0.001, verbose=False),\n",
       "             iid='warn', n_jobs=None,\n",
       "             param_grid={'C': [1, 10], 'gamma': [0.1, 0.01], 'kernel': ['rbf']},\n",
       "             pre_dispatch='2*n_jobs', refit=True, return_train_score=False,\n",
       "             scoring=None, verbose=3)"
      ]
     },
     "execution_count": 84,
     "metadata": {},
     "output_type": "execute_result"
    }
   ],
   "source": [
    "from sklearn.model_selection import GridSearchCV\n",
    "param_grid = {'C': [1, 10],  \n",
    "              'gamma': [0.1, 0.01], \n",
    "              'kernel': ['rbf']}  \n",
    "\n",
    "svm_clf = SVC(gamma=\"auto\", random_state=42, probability = True)\n",
    "grid_clf = GridSearchCV(svm_clf, param_grid, refit = True, verbose = 3) \n",
    "grid_clf.fit(d_prepared, y)"
   ]
  },
  {
   "cell_type": "code",
   "execution_count": 85,
   "metadata": {},
   "outputs": [
    {
     "data": {
      "text/plain": [
       "{'C': 10, 'gamma': 0.01, 'kernel': 'rbf'}"
      ]
     },
     "execution_count": 85,
     "metadata": {},
     "output_type": "execute_result"
    }
   ],
   "source": [
    "grid_clf.best_params_"
   ]
  },
  {
   "cell_type": "code",
   "execution_count": 86,
   "metadata": {},
   "outputs": [
    {
     "data": {
      "text/plain": [
       "0.9878333333333333"
      ]
     },
     "execution_count": 86,
     "metadata": {},
     "output_type": "execute_result"
    }
   ],
   "source": [
    "grid_clf.best_score_"
   ]
  },
  {
   "cell_type": "markdown",
   "metadata": {},
   "source": [
    "## 9. Use the best hyperparameters obtain above for the classifier to obtain the precision value when the recall is 1 using 3-fold cross-validation. If the precision is well above our target 0.70, go to the last step. "
   ]
  },
  {
   "cell_type": "markdown",
   "metadata": {},
   "source": [
    "The final presition after change the hyperparameters is aroud 71%, just fit the requirement, I also drow the new roc curve and precition vs recall plot that we can see it is better than the old one."
   ]
  },
  {
   "cell_type": "code",
   "execution_count": 87,
   "metadata": {},
   "outputs": [],
   "source": [
    "from sklearn.preprocessing import StandardScaler\n",
    "scaler = StandardScaler()\n",
    "d_prepared_scaled = scaler.fit_transform(d_prepared.astype(np.float64))"
   ]
  },
  {
   "cell_type": "code",
   "execution_count": 88,
   "metadata": {},
   "outputs": [],
   "source": [
    "svm_clf_new = grid_clf.best_estimator_\n"
   ]
  },
  {
   "cell_type": "code",
   "execution_count": 89,
   "metadata": {},
   "outputs": [],
   "source": [
    "svm_clf_score_new = cross_val_predict(svm_clf_new, d_prepared_scaled, y, cv=3, method = 'predict_proba')[:,-1]"
   ]
  },
  {
   "cell_type": "code",
   "execution_count": 90,
   "metadata": {},
   "outputs": [
    {
     "data": {
      "image/png": "[encoded data removed]",
      "text/plain": [
       "<Figure size 432x288 with 1 Axes>"
      ]
     },
     "metadata": {
      "needs_background": "light"
     },
     "output_type": "display_data"
    }
   ],
   "source": [
    "fpr, tpr, thresholds = roc_curve(y,svm_clf_score_new )\n",
    "plot_roc_curve(fpr, tpr) \n",
    "plt.show()"
   ]
  },
  {
   "cell_type": "code",
   "execution_count": 91,
   "metadata": {},
   "outputs": [
    {
     "data": {
      "text/plain": [
       "0.9991251782853494"
      ]
     },
     "execution_count": 91,
     "metadata": {},
     "output_type": "execute_result"
    }
   ],
   "source": [
    "roc_auc_score(y, svm_clf_score_new )"
   ]
  },
  {
   "cell_type": "code",
   "execution_count": 92,
   "metadata": {},
   "outputs": [
    {
     "name": "stdout",
     "output_type": "stream",
     "text": [
      "precision_vs_recall_plot\n"
     ]
    },
    {
     "data": {
      "image/png": "[encoded data removed]",
      "text/plain": [
       "<Figure size 576x432 with 1 Axes>"
      ]
     },
     "metadata": {
      "needs_background": "light"
     },
     "output_type": "display_data"
    }
   ],
   "source": [
    "precisions, recalls,thresholds = precision_recall_curve(y, svm_clf_score_new)\n",
    "plt.figure(figsize=(8, 6))\n",
    "plot_precision_vs_recall(precisions, recalls)\n",
    "print(\"precision_vs_recall_plot\")\n",
    "plt.show()"
   ]
  },
  {
   "cell_type": "code",
   "execution_count": 94,
   "metadata": {},
   "outputs": [
    {
     "name": "stdout",
     "output_type": "stream",
     "text": [
      "Precision: 70.89%\n"
     ]
    }
   ],
   "source": [
    "thresholds_final= thresholds[np.argmax(recalls >= 1)]\n",
    "y_pred_final = (svm_clf_score_new >= thresholds_final)\n",
    "\n",
    "print(\"Precision: {:.2f}%\".format(100 *precision_score(y, y_pred_final)))"
   ]
  },
  {
   "cell_type": "markdown",
   "metadata": {},
   "source": [
    "## 10. Use the test data from test.csv to check whether we can achieve the proposed require- ment on recall and precision.\n",
    " "
   ]
  },
  {
   "cell_type": "markdown",
   "metadata": {},
   "source": [
    "we need to pipeline get the prepare data of test data first, same as the train data. Than we can get the prediction base on the grid search result. And the precision and recall data "
   ]
  },
  {
   "cell_type": "code",
   "execution_count": 96,
   "metadata": {},
   "outputs": [],
   "source": [
    "final_model = grid_clf.best_estimator_"
   ]
  },
  {
   "cell_type": "code",
   "execution_count": 99,
   "metadata": {},
   "outputs": [],
   "source": [
    "x_test_prepared = full_pipeline.transform(d_test)"
   ]
  },
  {
   "cell_type": "code",
   "execution_count": 100,
   "metadata": {},
   "outputs": [],
   "source": [
    "final_predictions = final_model.predict(x_test_prepared)"
   ]
  },
  {
   "cell_type": "code",
   "execution_count": 102,
   "metadata": {},
   "outputs": [
    {
     "name": "stdout",
     "output_type": "stream",
     "text": [
      "Precision: 99.27%\n"
     ]
    }
   ],
   "source": [
    "print(\"Precision: {:.2f}%\".format(100 * precision_score(y_test, final_predictions)))"
   ]
  },
  {
   "cell_type": "code",
   "execution_count": 103,
   "metadata": {},
   "outputs": [
    {
     "name": "stdout",
     "output_type": "stream",
     "text": [
      "Recall: 98.23%\n"
     ]
    }
   ],
   "source": [
    "print(\"Recall: {:.2f}%\".format(100 * recall_score(y_test, final_predictions)))"
   ]
  },
  {
   "cell_type": "code",
   "execution_count": null,
   "metadata": {},
   "outputs": [],
   "source": []
  }
 ],
 "metadata": {
  "kernelspec": {
   "display_name": "Python 3",
   "language": "python",
   "name": "python3"
  },
  "language_info": {
   "codemirror_mode": {
    "name": "ipython",
    "version": 3
   },
   "file_extension": ".py",
   "mimetype": "text/x-python",
   "name": "python",
   "nbconvert_exporter": "python",
   "pygments_lexer": "ipython3",
   "version": "3.7.4"
  }
 },
 "nbformat": 4,
 "nbformat_minor": 2
}
